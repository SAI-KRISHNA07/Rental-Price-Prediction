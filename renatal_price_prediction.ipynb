{
 "cells": [
  {
   "cell_type": "markdown",
   "metadata": {},
   "source": [
    "# Motivation:\n",
    "With increasing urbanization and developing IT centers such as Hyderabad, more and more people move to metropolitan cities to find opportunities. The first priority of most entrants is renting a house as it is not always feasible to purchase property. The rental market is much larger in comparison to property ownership, particularly in rapidly developing metropolitan cities. With such high demand, a precise rental price prediction model can help individuals make the appropriate financial choices and help property owners determine competitive rates."
   ]
  },
  {
   "cell_type": "markdown",
   "metadata": {},
   "source": [
    "# Rental Price Prediction Using Machine Learning  \n",
    "\n",
    "## Overview  \n",
    "This project aims to predict rental prices in Hyderabad based on various independent features such as location, number of rooms, amenities, and more. Using **Python, Pandas, Scikit-Learn, and XGBoost**, I explored data patterns, built predictive models, and evaluated their performance.  \n",
    "\n",
    "## Tech Stack  \n",
    "- **Programming:** Python  \n",
    "- **Libraries:** Pandas, NumPy, Matplotlib, Seaborn, Scikit-Learn, XGBoost  \n",
    "- **ML Models:** Linear Regression, Random Forest, XGBoost  \n",
    "\n",
    "## Key Steps  \n",
    "1. **Exploratory Data Analysis (EDA)** – Visualized data using heatmaps and feature distributions.  \n",
    "2. **Data Preprocessing** – Handled missing values, encoded categorical features, and scaled numerical features.  \n",
    "3. **Model Development** – Implemented and compared **Linear Regression, Random Forest, and XGBoost**.  \n",
    "4. **Hyperparameter Tuning** – Optimized model performance to enhance prediction accuracy.  \n",
    "5. **Evaluation** – Measured performance using **RMSE, MAE, and R² Score**, with XGBoost achieving **R² = 0.8713**."
   ]
  },
  {
   "cell_type": "code",
   "execution_count": null,
   "metadata": {},
   "outputs": [],
   "source": [
    "import pandas as pd\n",
    "import matplotlib.pyplot as plt\n",
    "import numpy as np\n",
    "%matplotlib inline\n",
    "import seaborn as sns"
   ]
  },
  {
   "cell_type": "code",
   "execution_count": null,
   "metadata": {},
   "outputs": [],
   "source": [
    "df=pd.read_csv('copy_hyd.csv')"
   ]
  },
  {
   "cell_type": "code",
   "execution_count": null,
   "metadata": {},
   "outputs": [
    {
     "data": {
      "text/html": [
       "<div>\n",
       "<style scoped>\n",
       "    .dataframe tbody tr th:only-of-type {\n",
       "        vertical-align: middle;\n",
       "    }\n",
       "\n",
       "    .dataframe tbody tr th {\n",
       "        vertical-align: top;\n",
       "    }\n",
       "\n",
       "    .dataframe thead th {\n",
       "        text-align: right;\n",
       "    }\n",
       "</style>\n",
       "<table border=\"1\" class=\"dataframe\">\n",
       "  <thead>\n",
       "    <tr style=\"text-align: right;\">\n",
       "      <th></th>\n",
       "      <th>Unnamed: 0</th>\n",
       "      <th>Bedrooms</th>\n",
       "      <th>Bathrooms</th>\n",
       "      <th>Furnishing</th>\n",
       "      <th>Tennants</th>\n",
       "      <th>Area</th>\n",
       "      <th>Price</th>\n",
       "      <th>Locality</th>\n",
       "    </tr>\n",
       "  </thead>\n",
       "  <tbody>\n",
       "    <tr>\n",
       "      <th>0</th>\n",
       "      <td>0</td>\n",
       "      <td>3 BHK Builder Floor</td>\n",
       "      <td>2</td>\n",
       "      <td>Furnished</td>\n",
       "      <td>Bachelors/Family</td>\n",
       "      <td>1800 sqft</td>\n",
       "      <td>34,000</td>\n",
       "      <td>Bhagyalaxmi Nagar, Kavadiguda</td>\n",
       "    </tr>\n",
       "    <tr>\n",
       "      <th>1</th>\n",
       "      <td>1</td>\n",
       "      <td>3 BHK Apartment</td>\n",
       "      <td>2</td>\n",
       "      <td>Semi-Furnished</td>\n",
       "      <td>Family</td>\n",
       "      <td>2500 sqft</td>\n",
       "      <td>45,000</td>\n",
       "      <td>Gachibowli, Outer Ring Road</td>\n",
       "    </tr>\n",
       "    <tr>\n",
       "      <th>2</th>\n",
       "      <td>2</td>\n",
       "      <td>1 BHK Builder Floor</td>\n",
       "      <td>Immediately</td>\n",
       "      <td>Furnished</td>\n",
       "      <td>Bachelors/Family</td>\n",
       "      <td>read more</td>\n",
       "      <td>18,000</td>\n",
       "      <td>Gachibowli</td>\n",
       "    </tr>\n",
       "    <tr>\n",
       "      <th>3</th>\n",
       "      <td>3</td>\n",
       "      <td>3 BHK Apartment</td>\n",
       "      <td>Immediately</td>\n",
       "      <td>Furnished</td>\n",
       "      <td>Bachelors/Family</td>\n",
       "      <td>2160 sqft</td>\n",
       "      <td>40,000</td>\n",
       "      <td>Moosapet, NH</td>\n",
       "    </tr>\n",
       "    <tr>\n",
       "      <th>4</th>\n",
       "      <td>4</td>\n",
       "      <td>3 BHK Apartment</td>\n",
       "      <td>2</td>\n",
       "      <td>Semi-Furnished</td>\n",
       "      <td>Family</td>\n",
       "      <td>1580 sqft</td>\n",
       "      <td>23,000</td>\n",
       "      <td>Raghavendra Colony kondapur</td>\n",
       "    </tr>\n",
       "  </tbody>\n",
       "</table>\n",
       "</div>"
      ],
      "text/plain": [
       "   Unnamed: 0             Bedrooms    Bathrooms      Furnishing  \\\n",
       "0           0  3 BHK Builder Floor            2       Furnished   \n",
       "1           1      3 BHK Apartment            2  Semi-Furnished   \n",
       "2           2  1 BHK Builder Floor  Immediately       Furnished   \n",
       "3           3      3 BHK Apartment  Immediately       Furnished   \n",
       "4           4      3 BHK Apartment            2  Semi-Furnished   \n",
       "\n",
       "           Tennants       Area   Price                         Locality  \n",
       "0  Bachelors/Family  1800 sqft  34,000   Bhagyalaxmi Nagar, Kavadiguda   \n",
       "1            Family  2500 sqft  45,000     Gachibowli, Outer Ring Road   \n",
       "2  Bachelors/Family  read more  18,000                       Gachibowli  \n",
       "3  Bachelors/Family  2160 sqft  40,000                    Moosapet, NH   \n",
       "4            Family  1580 sqft  23,000     Raghavendra Colony kondapur   "
      ]
     },
     "execution_count": 40,
     "metadata": {},
     "output_type": "execute_result"
    }
   ],
   "source": [
    "df.head()"
   ]
  },
  {
   "cell_type": "code",
   "execution_count": null,
   "metadata": {},
   "outputs": [],
   "source": [
    "df=df.drop(['Unnamed: 0'],axis=1)"
   ]
  },
  {
   "cell_type": "code",
   "execution_count": null,
   "metadata": {},
   "outputs": [
    {
     "data": {
      "text/html": [
       "<div>\n",
       "<style scoped>\n",
       "    .dataframe tbody tr th:only-of-type {\n",
       "        vertical-align: middle;\n",
       "    }\n",
       "\n",
       "    .dataframe tbody tr th {\n",
       "        vertical-align: top;\n",
       "    }\n",
       "\n",
       "    .dataframe thead th {\n",
       "        text-align: right;\n",
       "    }\n",
       "</style>\n",
       "<table border=\"1\" class=\"dataframe\">\n",
       "  <thead>\n",
       "    <tr style=\"text-align: right;\">\n",
       "      <th></th>\n",
       "      <th>Bedrooms</th>\n",
       "      <th>Bathrooms</th>\n",
       "      <th>Furnishing</th>\n",
       "      <th>Tennants</th>\n",
       "      <th>Area</th>\n",
       "      <th>Price</th>\n",
       "      <th>Locality</th>\n",
       "    </tr>\n",
       "  </thead>\n",
       "  <tbody>\n",
       "    <tr>\n",
       "      <th>0</th>\n",
       "      <td>3 BHK Builder Floor</td>\n",
       "      <td>2</td>\n",
       "      <td>Furnished</td>\n",
       "      <td>Bachelors/Family</td>\n",
       "      <td>1800 sqft</td>\n",
       "      <td>34,000</td>\n",
       "      <td>Bhagyalaxmi Nagar, Kavadiguda</td>\n",
       "    </tr>\n",
       "    <tr>\n",
       "      <th>1</th>\n",
       "      <td>3 BHK Apartment</td>\n",
       "      <td>2</td>\n",
       "      <td>Semi-Furnished</td>\n",
       "      <td>Family</td>\n",
       "      <td>2500 sqft</td>\n",
       "      <td>45,000</td>\n",
       "      <td>Gachibowli, Outer Ring Road</td>\n",
       "    </tr>\n",
       "    <tr>\n",
       "      <th>2</th>\n",
       "      <td>1 BHK Builder Floor</td>\n",
       "      <td>Immediately</td>\n",
       "      <td>Furnished</td>\n",
       "      <td>Bachelors/Family</td>\n",
       "      <td>read more</td>\n",
       "      <td>18,000</td>\n",
       "      <td>Gachibowli</td>\n",
       "    </tr>\n",
       "    <tr>\n",
       "      <th>3</th>\n",
       "      <td>3 BHK Apartment</td>\n",
       "      <td>Immediately</td>\n",
       "      <td>Furnished</td>\n",
       "      <td>Bachelors/Family</td>\n",
       "      <td>2160 sqft</td>\n",
       "      <td>40,000</td>\n",
       "      <td>Moosapet, NH</td>\n",
       "    </tr>\n",
       "    <tr>\n",
       "      <th>4</th>\n",
       "      <td>3 BHK Apartment</td>\n",
       "      <td>2</td>\n",
       "      <td>Semi-Furnished</td>\n",
       "      <td>Family</td>\n",
       "      <td>1580 sqft</td>\n",
       "      <td>23,000</td>\n",
       "      <td>Raghavendra Colony kondapur</td>\n",
       "    </tr>\n",
       "  </tbody>\n",
       "</table>\n",
       "</div>"
      ],
      "text/plain": [
       "              Bedrooms    Bathrooms      Furnishing          Tennants  \\\n",
       "0  3 BHK Builder Floor            2       Furnished  Bachelors/Family   \n",
       "1      3 BHK Apartment            2  Semi-Furnished            Family   \n",
       "2  1 BHK Builder Floor  Immediately       Furnished  Bachelors/Family   \n",
       "3      3 BHK Apartment  Immediately       Furnished  Bachelors/Family   \n",
       "4      3 BHK Apartment            2  Semi-Furnished            Family   \n",
       "\n",
       "        Area   Price                         Locality  \n",
       "0  1800 sqft  34,000   Bhagyalaxmi Nagar, Kavadiguda   \n",
       "1  2500 sqft  45,000     Gachibowli, Outer Ring Road   \n",
       "2  read more  18,000                       Gachibowli  \n",
       "3  2160 sqft  40,000                    Moosapet, NH   \n",
       "4  1580 sqft  23,000     Raghavendra Colony kondapur   "
      ]
     },
     "execution_count": 42,
     "metadata": {},
     "output_type": "execute_result"
    }
   ],
   "source": [
    "df.head()"
   ]
  },
  {
   "cell_type": "code",
   "execution_count": null,
   "metadata": {},
   "outputs": [],
   "source": [
    "df['Bedrooms']=df['Bedrooms'].str.extract('(\\d)').astype(float)"
   ]
  },
  {
   "cell_type": "code",
   "execution_count": null,
   "metadata": {},
   "outputs": [
    {
     "data": {
      "text/html": [
       "<div>\n",
       "<style scoped>\n",
       "    .dataframe tbody tr th:only-of-type {\n",
       "        vertical-align: middle;\n",
       "    }\n",
       "\n",
       "    .dataframe tbody tr th {\n",
       "        vertical-align: top;\n",
       "    }\n",
       "\n",
       "    .dataframe thead th {\n",
       "        text-align: right;\n",
       "    }\n",
       "</style>\n",
       "<table border=\"1\" class=\"dataframe\">\n",
       "  <thead>\n",
       "    <tr style=\"text-align: right;\">\n",
       "      <th></th>\n",
       "      <th>Bedrooms</th>\n",
       "      <th>Bathrooms</th>\n",
       "      <th>Furnishing</th>\n",
       "      <th>Tennants</th>\n",
       "      <th>Area</th>\n",
       "      <th>Price</th>\n",
       "      <th>Locality</th>\n",
       "    </tr>\n",
       "  </thead>\n",
       "  <tbody>\n",
       "    <tr>\n",
       "      <th>0</th>\n",
       "      <td>3.0</td>\n",
       "      <td>2</td>\n",
       "      <td>Furnished</td>\n",
       "      <td>Bachelors/Family</td>\n",
       "      <td>1800 sqft</td>\n",
       "      <td>34,000</td>\n",
       "      <td>Bhagyalaxmi Nagar, Kavadiguda</td>\n",
       "    </tr>\n",
       "    <tr>\n",
       "      <th>1</th>\n",
       "      <td>3.0</td>\n",
       "      <td>2</td>\n",
       "      <td>Semi-Furnished</td>\n",
       "      <td>Family</td>\n",
       "      <td>2500 sqft</td>\n",
       "      <td>45,000</td>\n",
       "      <td>Gachibowli, Outer Ring Road</td>\n",
       "    </tr>\n",
       "    <tr>\n",
       "      <th>2</th>\n",
       "      <td>1.0</td>\n",
       "      <td>Immediately</td>\n",
       "      <td>Furnished</td>\n",
       "      <td>Bachelors/Family</td>\n",
       "      <td>read more</td>\n",
       "      <td>18,000</td>\n",
       "      <td>Gachibowli</td>\n",
       "    </tr>\n",
       "    <tr>\n",
       "      <th>3</th>\n",
       "      <td>3.0</td>\n",
       "      <td>Immediately</td>\n",
       "      <td>Furnished</td>\n",
       "      <td>Bachelors/Family</td>\n",
       "      <td>2160 sqft</td>\n",
       "      <td>40,000</td>\n",
       "      <td>Moosapet, NH</td>\n",
       "    </tr>\n",
       "    <tr>\n",
       "      <th>4</th>\n",
       "      <td>3.0</td>\n",
       "      <td>2</td>\n",
       "      <td>Semi-Furnished</td>\n",
       "      <td>Family</td>\n",
       "      <td>1580 sqft</td>\n",
       "      <td>23,000</td>\n",
       "      <td>Raghavendra Colony kondapur</td>\n",
       "    </tr>\n",
       "  </tbody>\n",
       "</table>\n",
       "</div>"
      ],
      "text/plain": [
       "   Bedrooms    Bathrooms      Furnishing          Tennants       Area   Price  \\\n",
       "0       3.0            2       Furnished  Bachelors/Family  1800 sqft  34,000   \n",
       "1       3.0            2  Semi-Furnished            Family  2500 sqft  45,000   \n",
       "2       1.0  Immediately       Furnished  Bachelors/Family  read more  18,000   \n",
       "3       3.0  Immediately       Furnished  Bachelors/Family  2160 sqft  40,000   \n",
       "4       3.0            2  Semi-Furnished            Family  1580 sqft  23,000   \n",
       "\n",
       "                          Locality  \n",
       "0   Bhagyalaxmi Nagar, Kavadiguda   \n",
       "1     Gachibowli, Outer Ring Road   \n",
       "2                       Gachibowli  \n",
       "3                    Moosapet, NH   \n",
       "4     Raghavendra Colony kondapur   "
      ]
     },
     "execution_count": 44,
     "metadata": {},
     "output_type": "execute_result"
    }
   ],
   "source": [
    "df.head()"
   ]
  },
  {
   "cell_type": "code",
   "execution_count": null,
   "metadata": {},
   "outputs": [],
   "source": [
    "df['Bathrooms']=pd.to_numeric(df['Bathrooms'],errors='coerce')"
   ]
  },
  {
   "cell_type": "code",
   "execution_count": null,
   "metadata": {},
   "outputs": [
    {
     "data": {
      "text/html": [
       "<div>\n",
       "<style scoped>\n",
       "    .dataframe tbody tr th:only-of-type {\n",
       "        vertical-align: middle;\n",
       "    }\n",
       "\n",
       "    .dataframe tbody tr th {\n",
       "        vertical-align: top;\n",
       "    }\n",
       "\n",
       "    .dataframe thead th {\n",
       "        text-align: right;\n",
       "    }\n",
       "</style>\n",
       "<table border=\"1\" class=\"dataframe\">\n",
       "  <thead>\n",
       "    <tr style=\"text-align: right;\">\n",
       "      <th></th>\n",
       "      <th>Bedrooms</th>\n",
       "      <th>Bathrooms</th>\n",
       "      <th>Furnishing</th>\n",
       "      <th>Tennants</th>\n",
       "      <th>Area</th>\n",
       "      <th>Price</th>\n",
       "      <th>Locality</th>\n",
       "    </tr>\n",
       "  </thead>\n",
       "  <tbody>\n",
       "    <tr>\n",
       "      <th>0</th>\n",
       "      <td>3.0</td>\n",
       "      <td>2.0</td>\n",
       "      <td>Furnished</td>\n",
       "      <td>Bachelors/Family</td>\n",
       "      <td>1800 sqft</td>\n",
       "      <td>34,000</td>\n",
       "      <td>Bhagyalaxmi Nagar, Kavadiguda</td>\n",
       "    </tr>\n",
       "    <tr>\n",
       "      <th>1</th>\n",
       "      <td>3.0</td>\n",
       "      <td>2.0</td>\n",
       "      <td>Semi-Furnished</td>\n",
       "      <td>Family</td>\n",
       "      <td>2500 sqft</td>\n",
       "      <td>45,000</td>\n",
       "      <td>Gachibowli, Outer Ring Road</td>\n",
       "    </tr>\n",
       "    <tr>\n",
       "      <th>2</th>\n",
       "      <td>1.0</td>\n",
       "      <td>NaN</td>\n",
       "      <td>Furnished</td>\n",
       "      <td>Bachelors/Family</td>\n",
       "      <td>read more</td>\n",
       "      <td>18,000</td>\n",
       "      <td>Gachibowli</td>\n",
       "    </tr>\n",
       "    <tr>\n",
       "      <th>3</th>\n",
       "      <td>3.0</td>\n",
       "      <td>NaN</td>\n",
       "      <td>Furnished</td>\n",
       "      <td>Bachelors/Family</td>\n",
       "      <td>2160 sqft</td>\n",
       "      <td>40,000</td>\n",
       "      <td>Moosapet, NH</td>\n",
       "    </tr>\n",
       "    <tr>\n",
       "      <th>4</th>\n",
       "      <td>3.0</td>\n",
       "      <td>2.0</td>\n",
       "      <td>Semi-Furnished</td>\n",
       "      <td>Family</td>\n",
       "      <td>1580 sqft</td>\n",
       "      <td>23,000</td>\n",
       "      <td>Raghavendra Colony kondapur</td>\n",
       "    </tr>\n",
       "  </tbody>\n",
       "</table>\n",
       "</div>"
      ],
      "text/plain": [
       "   Bedrooms  Bathrooms      Furnishing          Tennants       Area   Price  \\\n",
       "0       3.0        2.0       Furnished  Bachelors/Family  1800 sqft  34,000   \n",
       "1       3.0        2.0  Semi-Furnished            Family  2500 sqft  45,000   \n",
       "2       1.0        NaN       Furnished  Bachelors/Family  read more  18,000   \n",
       "3       3.0        NaN       Furnished  Bachelors/Family  2160 sqft  40,000   \n",
       "4       3.0        2.0  Semi-Furnished            Family  1580 sqft  23,000   \n",
       "\n",
       "                          Locality  \n",
       "0   Bhagyalaxmi Nagar, Kavadiguda   \n",
       "1     Gachibowli, Outer Ring Road   \n",
       "2                       Gachibowli  \n",
       "3                    Moosapet, NH   \n",
       "4     Raghavendra Colony kondapur   "
      ]
     },
     "execution_count": 46,
     "metadata": {},
     "output_type": "execute_result"
    }
   ],
   "source": [
    "df.head()"
   ]
  },
  {
   "cell_type": "code",
   "execution_count": null,
   "metadata": {},
   "outputs": [
    {
     "data": {
      "text/plain": [
       "Bedrooms       14\n",
       "Bathrooms     290\n",
       "Furnishing      0\n",
       "Tennants        1\n",
       "Area           22\n",
       "Price           0\n",
       "Locality        0\n",
       "dtype: int64"
      ]
     },
     "execution_count": 47,
     "metadata": {},
     "output_type": "execute_result"
    }
   ],
   "source": [
    "df.isnull().sum()"
   ]
  },
  {
   "cell_type": "code",
   "execution_count": null,
   "metadata": {},
   "outputs": [
    {
     "data": {
      "text/html": [
       "<div>\n",
       "<style scoped>\n",
       "    .dataframe tbody tr th:only-of-type {\n",
       "        vertical-align: middle;\n",
       "    }\n",
       "\n",
       "    .dataframe tbody tr th {\n",
       "        vertical-align: top;\n",
       "    }\n",
       "\n",
       "    .dataframe thead th {\n",
       "        text-align: right;\n",
       "    }\n",
       "</style>\n",
       "<table border=\"1\" class=\"dataframe\">\n",
       "  <thead>\n",
       "    <tr style=\"text-align: right;\">\n",
       "      <th></th>\n",
       "      <th>Bedrooms</th>\n",
       "      <th>Bathrooms</th>\n",
       "    </tr>\n",
       "  </thead>\n",
       "  <tbody>\n",
       "    <tr>\n",
       "      <th>count</th>\n",
       "      <td>1157.000000</td>\n",
       "      <td>881.000000</td>\n",
       "    </tr>\n",
       "    <tr>\n",
       "      <th>mean</th>\n",
       "      <td>2.477096</td>\n",
       "      <td>1.701476</td>\n",
       "    </tr>\n",
       "    <tr>\n",
       "      <th>std</th>\n",
       "      <td>0.647489</td>\n",
       "      <td>0.707499</td>\n",
       "    </tr>\n",
       "    <tr>\n",
       "      <th>min</th>\n",
       "      <td>1.000000</td>\n",
       "      <td>1.000000</td>\n",
       "    </tr>\n",
       "    <tr>\n",
       "      <th>25%</th>\n",
       "      <td>2.000000</td>\n",
       "      <td>1.000000</td>\n",
       "    </tr>\n",
       "    <tr>\n",
       "      <th>50%</th>\n",
       "      <td>3.000000</td>\n",
       "      <td>2.000000</td>\n",
       "    </tr>\n",
       "    <tr>\n",
       "      <th>75%</th>\n",
       "      <td>3.000000</td>\n",
       "      <td>2.000000</td>\n",
       "    </tr>\n",
       "    <tr>\n",
       "      <th>max</th>\n",
       "      <td>5.000000</td>\n",
       "      <td>5.000000</td>\n",
       "    </tr>\n",
       "  </tbody>\n",
       "</table>\n",
       "</div>"
      ],
      "text/plain": [
       "          Bedrooms   Bathrooms\n",
       "count  1157.000000  881.000000\n",
       "mean      2.477096    1.701476\n",
       "std       0.647489    0.707499\n",
       "min       1.000000    1.000000\n",
       "25%       2.000000    1.000000\n",
       "50%       3.000000    2.000000\n",
       "75%       3.000000    2.000000\n",
       "max       5.000000    5.000000"
      ]
     },
     "execution_count": 48,
     "metadata": {},
     "output_type": "execute_result"
    }
   ],
   "source": [
    "df.describe()"
   ]
  },
  {
   "cell_type": "code",
   "execution_count": null,
   "metadata": {},
   "outputs": [],
   "source": [
    "df['Price']=df['Price'].str.replace(',','').astype(float)"
   ]
  },
  {
   "cell_type": "code",
   "execution_count": null,
   "metadata": {},
   "outputs": [
    {
     "data": {
      "text/html": [
       "<div>\n",
       "<style scoped>\n",
       "    .dataframe tbody tr th:only-of-type {\n",
       "        vertical-align: middle;\n",
       "    }\n",
       "\n",
       "    .dataframe tbody tr th {\n",
       "        vertical-align: top;\n",
       "    }\n",
       "\n",
       "    .dataframe thead th {\n",
       "        text-align: right;\n",
       "    }\n",
       "</style>\n",
       "<table border=\"1\" class=\"dataframe\">\n",
       "  <thead>\n",
       "    <tr style=\"text-align: right;\">\n",
       "      <th></th>\n",
       "      <th>Bedrooms</th>\n",
       "      <th>Bathrooms</th>\n",
       "      <th>Furnishing</th>\n",
       "      <th>Tennants</th>\n",
       "      <th>Area</th>\n",
       "      <th>Price</th>\n",
       "      <th>Locality</th>\n",
       "    </tr>\n",
       "  </thead>\n",
       "  <tbody>\n",
       "    <tr>\n",
       "      <th>0</th>\n",
       "      <td>3.0</td>\n",
       "      <td>2.0</td>\n",
       "      <td>Furnished</td>\n",
       "      <td>Bachelors/Family</td>\n",
       "      <td>1800 sqft</td>\n",
       "      <td>34000.0</td>\n",
       "      <td>Bhagyalaxmi Nagar, Kavadiguda</td>\n",
       "    </tr>\n",
       "    <tr>\n",
       "      <th>1</th>\n",
       "      <td>3.0</td>\n",
       "      <td>2.0</td>\n",
       "      <td>Semi-Furnished</td>\n",
       "      <td>Family</td>\n",
       "      <td>2500 sqft</td>\n",
       "      <td>45000.0</td>\n",
       "      <td>Gachibowli, Outer Ring Road</td>\n",
       "    </tr>\n",
       "    <tr>\n",
       "      <th>2</th>\n",
       "      <td>1.0</td>\n",
       "      <td>NaN</td>\n",
       "      <td>Furnished</td>\n",
       "      <td>Bachelors/Family</td>\n",
       "      <td>read more</td>\n",
       "      <td>18000.0</td>\n",
       "      <td>Gachibowli</td>\n",
       "    </tr>\n",
       "    <tr>\n",
       "      <th>3</th>\n",
       "      <td>3.0</td>\n",
       "      <td>NaN</td>\n",
       "      <td>Furnished</td>\n",
       "      <td>Bachelors/Family</td>\n",
       "      <td>2160 sqft</td>\n",
       "      <td>40000.0</td>\n",
       "      <td>Moosapet, NH</td>\n",
       "    </tr>\n",
       "    <tr>\n",
       "      <th>4</th>\n",
       "      <td>3.0</td>\n",
       "      <td>2.0</td>\n",
       "      <td>Semi-Furnished</td>\n",
       "      <td>Family</td>\n",
       "      <td>1580 sqft</td>\n",
       "      <td>23000.0</td>\n",
       "      <td>Raghavendra Colony kondapur</td>\n",
       "    </tr>\n",
       "  </tbody>\n",
       "</table>\n",
       "</div>"
      ],
      "text/plain": [
       "   Bedrooms  Bathrooms      Furnishing          Tennants       Area    Price  \\\n",
       "0       3.0        2.0       Furnished  Bachelors/Family  1800 sqft  34000.0   \n",
       "1       3.0        2.0  Semi-Furnished            Family  2500 sqft  45000.0   \n",
       "2       1.0        NaN       Furnished  Bachelors/Family  read more  18000.0   \n",
       "3       3.0        NaN       Furnished  Bachelors/Family  2160 sqft  40000.0   \n",
       "4       3.0        2.0  Semi-Furnished            Family  1580 sqft  23000.0   \n",
       "\n",
       "                          Locality  \n",
       "0   Bhagyalaxmi Nagar, Kavadiguda   \n",
       "1     Gachibowli, Outer Ring Road   \n",
       "2                       Gachibowli  \n",
       "3                    Moosapet, NH   \n",
       "4     Raghavendra Colony kondapur   "
      ]
     },
     "execution_count": 50,
     "metadata": {},
     "output_type": "execute_result"
    }
   ],
   "source": [
    "df.head()"
   ]
  },
  {
   "cell_type": "code",
   "execution_count": null,
   "metadata": {},
   "outputs": [],
   "source": [
    "df['Area'] = df['Area'].str.replace(' sqft', '', regex=True).str.replace(',', '', regex=True)\n",
    "df['Area'] = pd.to_numeric(df['Area'], errors='coerce')"
   ]
  },
  {
   "cell_type": "code",
   "execution_count": null,
   "metadata": {},
   "outputs": [
    {
     "data": {
      "text/html": [
       "<div>\n",
       "<style scoped>\n",
       "    .dataframe tbody tr th:only-of-type {\n",
       "        vertical-align: middle;\n",
       "    }\n",
       "\n",
       "    .dataframe tbody tr th {\n",
       "        vertical-align: top;\n",
       "    }\n",
       "\n",
       "    .dataframe thead th {\n",
       "        text-align: right;\n",
       "    }\n",
       "</style>\n",
       "<table border=\"1\" class=\"dataframe\">\n",
       "  <thead>\n",
       "    <tr style=\"text-align: right;\">\n",
       "      <th></th>\n",
       "      <th>Bedrooms</th>\n",
       "      <th>Bathrooms</th>\n",
       "      <th>Furnishing</th>\n",
       "      <th>Tennants</th>\n",
       "      <th>Area</th>\n",
       "      <th>Price</th>\n",
       "      <th>Locality</th>\n",
       "    </tr>\n",
       "  </thead>\n",
       "  <tbody>\n",
       "    <tr>\n",
       "      <th>0</th>\n",
       "      <td>3.0</td>\n",
       "      <td>2.0</td>\n",
       "      <td>Furnished</td>\n",
       "      <td>Bachelors/Family</td>\n",
       "      <td>1800.0</td>\n",
       "      <td>34000.0</td>\n",
       "      <td>Bhagyalaxmi Nagar, Kavadiguda</td>\n",
       "    </tr>\n",
       "    <tr>\n",
       "      <th>1</th>\n",
       "      <td>3.0</td>\n",
       "      <td>2.0</td>\n",
       "      <td>Semi-Furnished</td>\n",
       "      <td>Family</td>\n",
       "      <td>2500.0</td>\n",
       "      <td>45000.0</td>\n",
       "      <td>Gachibowli, Outer Ring Road</td>\n",
       "    </tr>\n",
       "    <tr>\n",
       "      <th>2</th>\n",
       "      <td>1.0</td>\n",
       "      <td>NaN</td>\n",
       "      <td>Furnished</td>\n",
       "      <td>Bachelors/Family</td>\n",
       "      <td>NaN</td>\n",
       "      <td>18000.0</td>\n",
       "      <td>Gachibowli</td>\n",
       "    </tr>\n",
       "    <tr>\n",
       "      <th>3</th>\n",
       "      <td>3.0</td>\n",
       "      <td>NaN</td>\n",
       "      <td>Furnished</td>\n",
       "      <td>Bachelors/Family</td>\n",
       "      <td>2160.0</td>\n",
       "      <td>40000.0</td>\n",
       "      <td>Moosapet, NH</td>\n",
       "    </tr>\n",
       "    <tr>\n",
       "      <th>4</th>\n",
       "      <td>3.0</td>\n",
       "      <td>2.0</td>\n",
       "      <td>Semi-Furnished</td>\n",
       "      <td>Family</td>\n",
       "      <td>1580.0</td>\n",
       "      <td>23000.0</td>\n",
       "      <td>Raghavendra Colony kondapur</td>\n",
       "    </tr>\n",
       "  </tbody>\n",
       "</table>\n",
       "</div>"
      ],
      "text/plain": [
       "   Bedrooms  Bathrooms      Furnishing          Tennants    Area    Price  \\\n",
       "0       3.0        2.0       Furnished  Bachelors/Family  1800.0  34000.0   \n",
       "1       3.0        2.0  Semi-Furnished            Family  2500.0  45000.0   \n",
       "2       1.0        NaN       Furnished  Bachelors/Family     NaN  18000.0   \n",
       "3       3.0        NaN       Furnished  Bachelors/Family  2160.0  40000.0   \n",
       "4       3.0        2.0  Semi-Furnished            Family  1580.0  23000.0   \n",
       "\n",
       "                          Locality  \n",
       "0   Bhagyalaxmi Nagar, Kavadiguda   \n",
       "1     Gachibowli, Outer Ring Road   \n",
       "2                       Gachibowli  \n",
       "3                    Moosapet, NH   \n",
       "4     Raghavendra Colony kondapur   "
      ]
     },
     "execution_count": 52,
     "metadata": {},
     "output_type": "execute_result"
    }
   ],
   "source": [
    "df.head()"
   ]
  },
  {
   "cell_type": "code",
   "execution_count": null,
   "metadata": {},
   "outputs": [
    {
     "data": {
      "text/plain": [
       "Bedrooms       14\n",
       "Bathrooms     290\n",
       "Furnishing      0\n",
       "Tennants        1\n",
       "Area          144\n",
       "Price           0\n",
       "Locality        0\n",
       "dtype: int64"
      ]
     },
     "execution_count": 53,
     "metadata": {},
     "output_type": "execute_result"
    }
   ],
   "source": [
    "df.isnull().sum()"
   ]
  },
  {
   "cell_type": "code",
   "execution_count": null,
   "metadata": {},
   "outputs": [
    {
     "name": "stderr",
     "output_type": "stream",
     "text": [
      "C:\\Users\\akhil\\AppData\\Local\\Temp\\ipykernel_21404\\2349149529.py:1: FutureWarning: A value is trying to be set on a copy of a DataFrame or Series through chained assignment using an inplace method.\n",
      "The behavior will change in pandas 3.0. This inplace method will never work because the intermediate object on which we are setting values always behaves as a copy.\n",
      "\n",
      "For example, when doing 'df[col].method(value, inplace=True)', try using 'df.method({col: value}, inplace=True)' or df[col] = df[col].method(value) instead, to perform the operation inplace on the original object.\n",
      "\n",
      "\n",
      "  df['Bathrooms'].fillna(df['Bathrooms'].median(), inplace=True)\n",
      "C:\\Users\\akhil\\AppData\\Local\\Temp\\ipykernel_21404\\2349149529.py:2: FutureWarning: A value is trying to be set on a copy of a DataFrame or Series through chained assignment using an inplace method.\n",
      "The behavior will change in pandas 3.0. This inplace method will never work because the intermediate object on which we are setting values always behaves as a copy.\n",
      "\n",
      "For example, when doing 'df[col].method(value, inplace=True)', try using 'df.method({col: value}, inplace=True)' or df[col] = df[col].method(value) instead, to perform the operation inplace on the original object.\n",
      "\n",
      "\n",
      "  df['Area'].fillna(df['Area'].median(), inplace=True)\n",
      "C:\\Users\\akhil\\AppData\\Local\\Temp\\ipykernel_21404\\2349149529.py:3: FutureWarning: A value is trying to be set on a copy of a DataFrame or Series through chained assignment using an inplace method.\n",
      "The behavior will change in pandas 3.0. This inplace method will never work because the intermediate object on which we are setting values always behaves as a copy.\n",
      "\n",
      "For example, when doing 'df[col].method(value, inplace=True)', try using 'df.method({col: value}, inplace=True)' or df[col] = df[col].method(value) instead, to perform the operation inplace on the original object.\n",
      "\n",
      "\n",
      "  df['Bedrooms'].fillna(df['Bedrooms'].median(), inplace=True)\n"
     ]
    }
   ],
   "source": [
    "df['Bathrooms'].fillna(df['Bathrooms'].median(), inplace=True)\n",
    "df['Area'].fillna(df['Area'].median(), inplace=True)\n",
    "df['Bedrooms'].fillna(df['Bedrooms'].median(), inplace=True)"
   ]
  },
  {
   "cell_type": "code",
   "execution_count": null,
   "metadata": {},
   "outputs": [
    {
     "data": {
      "text/html": [
       "<div>\n",
       "<style scoped>\n",
       "    .dataframe tbody tr th:only-of-type {\n",
       "        vertical-align: middle;\n",
       "    }\n",
       "\n",
       "    .dataframe tbody tr th {\n",
       "        vertical-align: top;\n",
       "    }\n",
       "\n",
       "    .dataframe thead th {\n",
       "        text-align: right;\n",
       "    }\n",
       "</style>\n",
       "<table border=\"1\" class=\"dataframe\">\n",
       "  <thead>\n",
       "    <tr style=\"text-align: right;\">\n",
       "      <th></th>\n",
       "      <th>Bedrooms</th>\n",
       "      <th>Bathrooms</th>\n",
       "      <th>Furnishing</th>\n",
       "      <th>Tennants</th>\n",
       "      <th>Area</th>\n",
       "      <th>Price</th>\n",
       "      <th>Locality</th>\n",
       "    </tr>\n",
       "  </thead>\n",
       "  <tbody>\n",
       "    <tr>\n",
       "      <th>0</th>\n",
       "      <td>3.0</td>\n",
       "      <td>2.0</td>\n",
       "      <td>Furnished</td>\n",
       "      <td>Bachelors/Family</td>\n",
       "      <td>1800.0</td>\n",
       "      <td>34000.0</td>\n",
       "      <td>Bhagyalaxmi Nagar, Kavadiguda</td>\n",
       "    </tr>\n",
       "    <tr>\n",
       "      <th>1</th>\n",
       "      <td>3.0</td>\n",
       "      <td>2.0</td>\n",
       "      <td>Semi-Furnished</td>\n",
       "      <td>Family</td>\n",
       "      <td>2500.0</td>\n",
       "      <td>45000.0</td>\n",
       "      <td>Gachibowli, Outer Ring Road</td>\n",
       "    </tr>\n",
       "    <tr>\n",
       "      <th>2</th>\n",
       "      <td>1.0</td>\n",
       "      <td>2.0</td>\n",
       "      <td>Furnished</td>\n",
       "      <td>Bachelors/Family</td>\n",
       "      <td>1400.0</td>\n",
       "      <td>18000.0</td>\n",
       "      <td>Gachibowli</td>\n",
       "    </tr>\n",
       "    <tr>\n",
       "      <th>3</th>\n",
       "      <td>3.0</td>\n",
       "      <td>2.0</td>\n",
       "      <td>Furnished</td>\n",
       "      <td>Bachelors/Family</td>\n",
       "      <td>2160.0</td>\n",
       "      <td>40000.0</td>\n",
       "      <td>Moosapet, NH</td>\n",
       "    </tr>\n",
       "    <tr>\n",
       "      <th>4</th>\n",
       "      <td>3.0</td>\n",
       "      <td>2.0</td>\n",
       "      <td>Semi-Furnished</td>\n",
       "      <td>Family</td>\n",
       "      <td>1580.0</td>\n",
       "      <td>23000.0</td>\n",
       "      <td>Raghavendra Colony kondapur</td>\n",
       "    </tr>\n",
       "  </tbody>\n",
       "</table>\n",
       "</div>"
      ],
      "text/plain": [
       "   Bedrooms  Bathrooms      Furnishing          Tennants    Area    Price  \\\n",
       "0       3.0        2.0       Furnished  Bachelors/Family  1800.0  34000.0   \n",
       "1       3.0        2.0  Semi-Furnished            Family  2500.0  45000.0   \n",
       "2       1.0        2.0       Furnished  Bachelors/Family  1400.0  18000.0   \n",
       "3       3.0        2.0       Furnished  Bachelors/Family  2160.0  40000.0   \n",
       "4       3.0        2.0  Semi-Furnished            Family  1580.0  23000.0   \n",
       "\n",
       "                          Locality  \n",
       "0   Bhagyalaxmi Nagar, Kavadiguda   \n",
       "1     Gachibowli, Outer Ring Road   \n",
       "2                       Gachibowli  \n",
       "3                    Moosapet, NH   \n",
       "4     Raghavendra Colony kondapur   "
      ]
     },
     "execution_count": 55,
     "metadata": {},
     "output_type": "execute_result"
    }
   ],
   "source": [
    "df.head()"
   ]
  },
  {
   "cell_type": "code",
   "execution_count": null,
   "metadata": {},
   "outputs": [
    {
     "data": {
      "text/plain": [
       "Bedrooms      0\n",
       "Bathrooms     0\n",
       "Furnishing    0\n",
       "Tennants      1\n",
       "Area          0\n",
       "Price         0\n",
       "Locality      0\n",
       "dtype: int64"
      ]
     },
     "execution_count": 56,
     "metadata": {},
     "output_type": "execute_result"
    }
   ],
   "source": [
    "df.isnull().sum()"
   ]
  },
  {
   "cell_type": "code",
   "execution_count": null,
   "metadata": {},
   "outputs": [],
   "source": [
    "df.dropna(inplace=True)"
   ]
  },
  {
   "cell_type": "code",
   "execution_count": null,
   "metadata": {},
   "outputs": [
    {
     "data": {
      "text/plain": [
       "Bedrooms      0\n",
       "Bathrooms     0\n",
       "Furnishing    0\n",
       "Tennants      0\n",
       "Area          0\n",
       "Price         0\n",
       "Locality      0\n",
       "dtype: int64"
      ]
     },
     "execution_count": 58,
     "metadata": {},
     "output_type": "execute_result"
    }
   ],
   "source": [
    "df.isnull().sum()"
   ]
  },
  {
   "cell_type": "code",
   "execution_count": null,
   "metadata": {},
   "outputs": [
    {
     "data": {
      "text/plain": [
       "count          1170\n",
       "unique          637\n",
       "top        Attapur \n",
       "freq             22\n",
       "Name: Locality, dtype: object"
      ]
     },
     "execution_count": 59,
     "metadata": {},
     "output_type": "execute_result"
    }
   ],
   "source": [
    "df['Locality'].describe()"
   ]
  },
  {
   "cell_type": "code",
   "execution_count": null,
   "metadata": {},
   "outputs": [
    {
     "data": {
      "text/plain": [
       "count               1170\n",
       "unique                 5\n",
       "top       Semi-Furnished\n",
       "freq                 622\n",
       "Name: Furnishing, dtype: object"
      ]
     },
     "execution_count": 60,
     "metadata": {},
     "output_type": "execute_result"
    }
   ],
   "source": [
    "df['Furnishing'].describe()"
   ]
  },
  {
   "cell_type": "code",
   "execution_count": null,
   "metadata": {},
   "outputs": [
    {
     "data": {
      "text/plain": [
       "Furnishing\n",
       "Semi-Furnished      622\n",
       "Unfurnished         334\n",
       "Furnished           186\n",
       "Bachelors/Family     24\n",
       "Family                4\n",
       "Name: count, dtype: int64"
      ]
     },
     "execution_count": 61,
     "metadata": {},
     "output_type": "execute_result"
    }
   ],
   "source": [
    "df['Furnishing'].value_counts()"
   ]
  },
  {
   "cell_type": "code",
   "execution_count": null,
   "metadata": {},
   "outputs": [
    {
     "data": {
      "text/plain": [
       "count                 1170\n",
       "unique                   6\n",
       "top       Bachelors/Family\n",
       "freq                   694\n",
       "Name: Tennants, dtype: object"
      ]
     },
     "execution_count": 62,
     "metadata": {},
     "output_type": "execute_result"
    }
   ],
   "source": [
    "df['Tennants'].describe()"
   ]
  },
  {
   "cell_type": "code",
   "execution_count": null,
   "metadata": {},
   "outputs": [],
   "source": [
    "df=df.drop(['Tennants'],axis=1)"
   ]
  },
  {
   "cell_type": "code",
   "execution_count": null,
   "metadata": {},
   "outputs": [
    {
     "data": {
      "text/html": [
       "<div>\n",
       "<style scoped>\n",
       "    .dataframe tbody tr th:only-of-type {\n",
       "        vertical-align: middle;\n",
       "    }\n",
       "\n",
       "    .dataframe tbody tr th {\n",
       "        vertical-align: top;\n",
       "    }\n",
       "\n",
       "    .dataframe thead th {\n",
       "        text-align: right;\n",
       "    }\n",
       "</style>\n",
       "<table border=\"1\" class=\"dataframe\">\n",
       "  <thead>\n",
       "    <tr style=\"text-align: right;\">\n",
       "      <th></th>\n",
       "      <th>Bedrooms</th>\n",
       "      <th>Bathrooms</th>\n",
       "      <th>Furnishing</th>\n",
       "      <th>Area</th>\n",
       "      <th>Price</th>\n",
       "      <th>Locality</th>\n",
       "    </tr>\n",
       "  </thead>\n",
       "  <tbody>\n",
       "    <tr>\n",
       "      <th>0</th>\n",
       "      <td>3.0</td>\n",
       "      <td>2.0</td>\n",
       "      <td>Furnished</td>\n",
       "      <td>1800.0</td>\n",
       "      <td>34000.0</td>\n",
       "      <td>Bhagyalaxmi Nagar, Kavadiguda</td>\n",
       "    </tr>\n",
       "    <tr>\n",
       "      <th>1</th>\n",
       "      <td>3.0</td>\n",
       "      <td>2.0</td>\n",
       "      <td>Semi-Furnished</td>\n",
       "      <td>2500.0</td>\n",
       "      <td>45000.0</td>\n",
       "      <td>Gachibowli, Outer Ring Road</td>\n",
       "    </tr>\n",
       "    <tr>\n",
       "      <th>2</th>\n",
       "      <td>1.0</td>\n",
       "      <td>2.0</td>\n",
       "      <td>Furnished</td>\n",
       "      <td>1400.0</td>\n",
       "      <td>18000.0</td>\n",
       "      <td>Gachibowli</td>\n",
       "    </tr>\n",
       "    <tr>\n",
       "      <th>3</th>\n",
       "      <td>3.0</td>\n",
       "      <td>2.0</td>\n",
       "      <td>Furnished</td>\n",
       "      <td>2160.0</td>\n",
       "      <td>40000.0</td>\n",
       "      <td>Moosapet, NH</td>\n",
       "    </tr>\n",
       "    <tr>\n",
       "      <th>4</th>\n",
       "      <td>3.0</td>\n",
       "      <td>2.0</td>\n",
       "      <td>Semi-Furnished</td>\n",
       "      <td>1580.0</td>\n",
       "      <td>23000.0</td>\n",
       "      <td>Raghavendra Colony kondapur</td>\n",
       "    </tr>\n",
       "  </tbody>\n",
       "</table>\n",
       "</div>"
      ],
      "text/plain": [
       "   Bedrooms  Bathrooms      Furnishing    Area    Price  \\\n",
       "0       3.0        2.0       Furnished  1800.0  34000.0   \n",
       "1       3.0        2.0  Semi-Furnished  2500.0  45000.0   \n",
       "2       1.0        2.0       Furnished  1400.0  18000.0   \n",
       "3       3.0        2.0       Furnished  2160.0  40000.0   \n",
       "4       3.0        2.0  Semi-Furnished  1580.0  23000.0   \n",
       "\n",
       "                          Locality  \n",
       "0   Bhagyalaxmi Nagar, Kavadiguda   \n",
       "1     Gachibowli, Outer Ring Road   \n",
       "2                       Gachibowli  \n",
       "3                    Moosapet, NH   \n",
       "4     Raghavendra Colony kondapur   "
      ]
     },
     "execution_count": 64,
     "metadata": {},
     "output_type": "execute_result"
    }
   ],
   "source": [
    "df.head()"
   ]
  },
  {
   "cell_type": "code",
   "execution_count": null,
   "metadata": {},
   "outputs": [],
   "source": [
    "df = df[df[\"Furnishing\"].isin([\"Unfurnished\", \"Semi-Furnished\", \"Furnished\"])]"
   ]
  },
  {
   "cell_type": "code",
   "execution_count": null,
   "metadata": {},
   "outputs": [
    {
     "data": {
      "text/plain": [
       "Furnishing\n",
       "Semi-Furnished    622\n",
       "Unfurnished       334\n",
       "Furnished         186\n",
       "Name: count, dtype: int64"
      ]
     },
     "execution_count": 66,
     "metadata": {},
     "output_type": "execute_result"
    }
   ],
   "source": [
    "df['Furnishing'].value_counts()"
   ]
  },
  {
   "cell_type": "code",
   "execution_count": null,
   "metadata": {},
   "outputs": [],
   "source": [
    "df['Furnishing']=df['Furnishing'].map({'Unfurnished':0,'Semi-Furnished':1,'Furnished':2})"
   ]
  },
  {
   "cell_type": "code",
   "execution_count": null,
   "metadata": {},
   "outputs": [
    {
     "data": {
      "text/plain": [
       "Furnishing\n",
       "1    622\n",
       "0    334\n",
       "2    186\n",
       "Name: count, dtype: int64"
      ]
     },
     "execution_count": 68,
     "metadata": {},
     "output_type": "execute_result"
    }
   ],
   "source": [
    "df['Furnishing'].value_counts()"
   ]
  },
  {
   "cell_type": "code",
   "execution_count": null,
   "metadata": {},
   "outputs": [
    {
     "data": {
      "text/plain": [
       "count          1142\n",
       "unique          633\n",
       "top        Attapur \n",
       "freq             21\n",
       "Name: Locality, dtype: object"
      ]
     },
     "execution_count": 40,
     "metadata": {},
     "output_type": "execute_result"
    }
   ],
   "source": [
    "df['Locality'].describe()"
   ]
  },
  {
   "cell_type": "code",
   "execution_count": null,
   "metadata": {},
   "outputs": [],
   "source": [
    "locality_price_map = df.groupby(\"Locality\")[\"Price\"].mean()\n",
    "df[\"Locality\"] = df[\"Locality\"].map(locality_price_map)"
   ]
  },
  {
   "cell_type": "code",
   "execution_count": null,
   "metadata": {},
   "outputs": [
    {
     "data": {
      "text/html": [
       "<div>\n",
       "<style scoped>\n",
       "    .dataframe tbody tr th:only-of-type {\n",
       "        vertical-align: middle;\n",
       "    }\n",
       "\n",
       "    .dataframe tbody tr th {\n",
       "        vertical-align: top;\n",
       "    }\n",
       "\n",
       "    .dataframe thead th {\n",
       "        text-align: right;\n",
       "    }\n",
       "</style>\n",
       "<table border=\"1\" class=\"dataframe\">\n",
       "  <thead>\n",
       "    <tr style=\"text-align: right;\">\n",
       "      <th></th>\n",
       "      <th>Bedrooms</th>\n",
       "      <th>Bathrooms</th>\n",
       "      <th>Furnishing</th>\n",
       "      <th>Area</th>\n",
       "      <th>Price</th>\n",
       "      <th>Locality</th>\n",
       "    </tr>\n",
       "  </thead>\n",
       "  <tbody>\n",
       "    <tr>\n",
       "      <th>0</th>\n",
       "      <td>3.0</td>\n",
       "      <td>2.0</td>\n",
       "      <td>2</td>\n",
       "      <td>1800.0</td>\n",
       "      <td>34000.0</td>\n",
       "      <td>34000.000000</td>\n",
       "    </tr>\n",
       "    <tr>\n",
       "      <th>1</th>\n",
       "      <td>3.0</td>\n",
       "      <td>2.0</td>\n",
       "      <td>1</td>\n",
       "      <td>2500.0</td>\n",
       "      <td>45000.0</td>\n",
       "      <td>37538.461538</td>\n",
       "    </tr>\n",
       "    <tr>\n",
       "      <th>2</th>\n",
       "      <td>1.0</td>\n",
       "      <td>2.0</td>\n",
       "      <td>2</td>\n",
       "      <td>1400.0</td>\n",
       "      <td>18000.0</td>\n",
       "      <td>21500.000000</td>\n",
       "    </tr>\n",
       "    <tr>\n",
       "      <th>3</th>\n",
       "      <td>3.0</td>\n",
       "      <td>2.0</td>\n",
       "      <td>2</td>\n",
       "      <td>2160.0</td>\n",
       "      <td>40000.0</td>\n",
       "      <td>40000.000000</td>\n",
       "    </tr>\n",
       "    <tr>\n",
       "      <th>4</th>\n",
       "      <td>3.0</td>\n",
       "      <td>2.0</td>\n",
       "      <td>1</td>\n",
       "      <td>1580.0</td>\n",
       "      <td>23000.0</td>\n",
       "      <td>23000.000000</td>\n",
       "    </tr>\n",
       "  </tbody>\n",
       "</table>\n",
       "</div>"
      ],
      "text/plain": [
       "   Bedrooms  Bathrooms  Furnishing    Area    Price      Locality\n",
       "0       3.0        2.0           2  1800.0  34000.0  34000.000000\n",
       "1       3.0        2.0           1  2500.0  45000.0  37538.461538\n",
       "2       1.0        2.0           2  1400.0  18000.0  21500.000000\n",
       "3       3.0        2.0           2  2160.0  40000.0  40000.000000\n",
       "4       3.0        2.0           1  1580.0  23000.0  23000.000000"
      ]
     },
     "execution_count": 77,
     "metadata": {},
     "output_type": "execute_result"
    }
   ],
   "source": [
    "df.head()"
   ]
  },
  {
   "cell_type": "code",
   "execution_count": null,
   "metadata": {},
   "outputs": [
    {
     "name": "stdout",
     "output_type": "stream",
     "text": [
      "<class 'pandas.core.frame.DataFrame'>\n",
      "Index: 1142 entries, 0 to 1170\n",
      "Data columns (total 6 columns):\n",
      " #   Column      Non-Null Count  Dtype  \n",
      "---  ------      --------------  -----  \n",
      " 0   Bedrooms    1142 non-null   float64\n",
      " 1   Bathrooms   1142 non-null   float64\n",
      " 2   Furnishing  1142 non-null   int64  \n",
      " 3   Area        1142 non-null   float64\n",
      " 4   Price       1142 non-null   float64\n",
      " 5   Locality    1142 non-null   float64\n",
      "dtypes: float64(5), int64(1)\n",
      "memory usage: 62.5 KB\n"
     ]
    }
   ],
   "source": [
    "df.info()"
   ]
  },
  {
   "cell_type": "code",
   "execution_count": null,
   "metadata": {},
   "outputs": [
    {
     "data": {
      "text/plain": [
       "Bedrooms      0\n",
       "Bathrooms     0\n",
       "Furnishing    0\n",
       "Area          0\n",
       "Price         0\n",
       "Locality      0\n",
       "dtype: int64"
      ]
     },
     "execution_count": 79,
     "metadata": {},
     "output_type": "execute_result"
    }
   ],
   "source": [
    "df.isnull().sum()"
   ]
  },
  {
   "cell_type": "code",
   "execution_count": null,
   "metadata": {},
   "outputs": [
    {
     "data": {
      "text/html": [
       "<div>\n",
       "<style scoped>\n",
       "    .dataframe tbody tr th:only-of-type {\n",
       "        vertical-align: middle;\n",
       "    }\n",
       "\n",
       "    .dataframe tbody tr th {\n",
       "        vertical-align: top;\n",
       "    }\n",
       "\n",
       "    .dataframe thead th {\n",
       "        text-align: right;\n",
       "    }\n",
       "</style>\n",
       "<table border=\"1\" class=\"dataframe\">\n",
       "  <thead>\n",
       "    <tr style=\"text-align: right;\">\n",
       "      <th></th>\n",
       "      <th>Bedrooms</th>\n",
       "      <th>Bathrooms</th>\n",
       "      <th>Furnishing</th>\n",
       "      <th>Area</th>\n",
       "      <th>Price</th>\n",
       "      <th>Locality</th>\n",
       "    </tr>\n",
       "  </thead>\n",
       "  <tbody>\n",
       "    <tr>\n",
       "      <th>count</th>\n",
       "      <td>1142.000000</td>\n",
       "      <td>1142.000000</td>\n",
       "      <td>1142.000000</td>\n",
       "      <td>1142.000000</td>\n",
       "      <td>1142.000000</td>\n",
       "      <td>1142.000000</td>\n",
       "    </tr>\n",
       "    <tr>\n",
       "      <th>mean</th>\n",
       "      <td>2.483363</td>\n",
       "      <td>1.769702</td>\n",
       "      <td>0.870403</td>\n",
       "      <td>1504.980736</td>\n",
       "      <td>22170.008757</td>\n",
       "      <td>22170.008757</td>\n",
       "    </tr>\n",
       "    <tr>\n",
       "      <th>std</th>\n",
       "      <td>0.648050</td>\n",
       "      <td>0.633862</td>\n",
       "      <td>0.662518</td>\n",
       "      <td>1226.737904</td>\n",
       "      <td>10997.611297</td>\n",
       "      <td>9926.080212</td>\n",
       "    </tr>\n",
       "    <tr>\n",
       "      <th>min</th>\n",
       "      <td>1.000000</td>\n",
       "      <td>1.000000</td>\n",
       "      <td>0.000000</td>\n",
       "      <td>150.000000</td>\n",
       "      <td>5000.000000</td>\n",
       "      <td>5000.000000</td>\n",
       "    </tr>\n",
       "    <tr>\n",
       "      <th>25%</th>\n",
       "      <td>2.000000</td>\n",
       "      <td>1.000000</td>\n",
       "      <td>0.000000</td>\n",
       "      <td>1200.000000</td>\n",
       "      <td>14000.000000</td>\n",
       "      <td>15000.000000</td>\n",
       "    </tr>\n",
       "    <tr>\n",
       "      <th>50%</th>\n",
       "      <td>3.000000</td>\n",
       "      <td>2.000000</td>\n",
       "      <td>1.000000</td>\n",
       "      <td>1400.000000</td>\n",
       "      <td>20000.000000</td>\n",
       "      <td>20000.000000</td>\n",
       "    </tr>\n",
       "    <tr>\n",
       "      <th>75%</th>\n",
       "      <td>3.000000</td>\n",
       "      <td>2.000000</td>\n",
       "      <td>1.000000</td>\n",
       "      <td>1665.000000</td>\n",
       "      <td>30000.000000</td>\n",
       "      <td>28166.666667</td>\n",
       "    </tr>\n",
       "    <tr>\n",
       "      <th>max</th>\n",
       "      <td>5.000000</td>\n",
       "      <td>5.000000</td>\n",
       "      <td>2.000000</td>\n",
       "      <td>40000.000000</td>\n",
       "      <td>50000.000000</td>\n",
       "      <td>50000.000000</td>\n",
       "    </tr>\n",
       "  </tbody>\n",
       "</table>\n",
       "</div>"
      ],
      "text/plain": [
       "          Bedrooms    Bathrooms  ...         Price      Locality\n",
       "count  1142.000000  1142.000000  ...   1142.000000   1142.000000\n",
       "mean      2.483363     1.769702  ...  22170.008757  22170.008757\n",
       "std       0.648050     0.633862  ...  10997.611297   9926.080212\n",
       "min       1.000000     1.000000  ...   5000.000000   5000.000000\n",
       "25%       2.000000     1.000000  ...  14000.000000  15000.000000\n",
       "50%       3.000000     2.000000  ...  20000.000000  20000.000000\n",
       "75%       3.000000     2.000000  ...  30000.000000  28166.666667\n",
       "max       5.000000     5.000000  ...  50000.000000  50000.000000\n",
       "\n",
       "[8 rows x 6 columns]"
      ]
     },
     "execution_count": 80,
     "metadata": {},
     "output_type": "execute_result"
    }
   ],
   "source": [
    "df.describe()"
   ]
  },
  {
   "cell_type": "code",
   "execution_count": null,
   "metadata": {},
   "outputs": [
    {
     "data": {
      "text/plain": [
       "<Axes: xlabel='Price', ylabel='Count'>"
      ]
     },
     "execution_count": 81,
     "metadata": {},
     "output_type": "execute_result"
    },
    {
     "data": {
      "image/png": "[encoded data removed]",
      "text/plain": [
       "<Figure size 640x480 with 1 Axes>"
      ]
     },
     "metadata": {},
     "output_type": "display_data"
    }
   ],
   "source": [
    "sns.histplot(df['Price'],bins=25,kde=True)"
   ]
  },
  {
   "cell_type": "code",
   "execution_count": null,
   "metadata": {},
   "outputs": [],
   "source": [
    "df['Price']=np.log1p(df['Price'])"
   ]
  },
  {
   "cell_type": "code",
   "execution_count": null,
   "metadata": {},
   "outputs": [
    {
     "data": {
      "text/plain": [
       "<Axes: xlabel='Price', ylabel='Count'>"
      ]
     },
     "execution_count": 84,
     "metadata": {},
     "output_type": "execute_result"
    },
    {
     "data": {
      "image/png": "[encoded data removed]",
      "text/plain": [
       "<Figure size 640x480 with 1 Axes>"
      ]
     },
     "metadata": {},
     "output_type": "display_data"
    }
   ],
   "source": [
    "sns.histplot(df['Price'],bins=100,kde=True)"
   ]
  },
  {
   "cell_type": "code",
   "execution_count": null,
   "metadata": {},
   "outputs": [
    {
     "data": {
      "image/png": "[encoded data removed]",
      "text/plain": [
       "<Figure size 1000x600 with 2 Axes>"
      ]
     },
     "metadata": {},
     "output_type": "display_data"
    }
   ],
   "source": [
    "plt.figure(figsize=(10, 6))\n",
    "sns.heatmap(df.corr(), annot=True, cmap=\"coolwarm\", fmt=\".2f\")\n",
    "plt.title(\"Feature Correlation Heatmap\")\n",
    "plt.show()"
   ]
  },
  {
   "cell_type": "code",
   "execution_count": null,
   "metadata": {},
   "outputs": [
    {
     "data": {
      "text/plain": [
       "<Axes: xlabel='Price'>"
      ]
     },
     "execution_count": 86,
     "metadata": {},
     "output_type": "execute_result"
    },
    {
     "data": {
      "image/png": "[encoded data removed]",
      "text/plain": [
       "<Figure size 640x480 with 1 Axes>"
      ]
     },
     "metadata": {},
     "output_type": "display_data"
    }
   ],
   "source": [
    "sns.boxplot(x=df['Price'])"
   ]
  },
  {
   "cell_type": "code",
   "execution_count": null,
   "metadata": {},
   "outputs": [
    {
     "data": {
      "text/plain": [
       "<Axes: xlabel='Area', ylabel='Price'>"
      ]
     },
     "execution_count": 87,
     "metadata": {},
     "output_type": "execute_result"
    },
    {
     "data": {
      "image/png": "[encoded data removed]",
      "text/plain": [
       "<Figure size 640x480 with 1 Axes>"
      ]
     },
     "metadata": {},
     "output_type": "display_data"
    }
   ],
   "source": [
    "sns.scatterplot(x='Area',y='Price',data=df)"
   ]
  },
  {
   "cell_type": "code",
   "execution_count": null,
   "metadata": {},
   "outputs": [
    {
     "data": {
      "text/plain": [
       "<Axes: xlabel='Area'>"
      ]
     },
     "execution_count": 88,
     "metadata": {},
     "output_type": "execute_result"
    },
    {
     "data": {
      "image/png": "[encoded data removed]",
      "text/plain": [
       "<Figure size 640x480 with 1 Axes>"
      ]
     },
     "metadata": {},
     "output_type": "display_data"
    }
   ],
   "source": [
    "sns.boxplot(x=df['Area'])"
   ]
  },
  {
   "cell_type": "code",
   "execution_count": null,
   "metadata": {},
   "outputs": [],
   "source": [
    "Q1 = df[\"Area\"].quantile(0.25)\n",
    "Q3 = df[\"Area\"].quantile(0.75)\n",
    "IQR = Q3 - Q1\n",
    "lower_bound = Q1 - 1.5 * IQR\n",
    "upper_bound = Q3 + 1.5 * IQR\n",
    "df = df[(df[\"Area\"] >= lower_bound) & (df[\"Area\"] <= upper_bound)]"
   ]
  },
  {
   "cell_type": "code",
   "execution_count": null,
   "metadata": {},
   "outputs": [
    {
     "data": {
      "text/plain": [
       "<Axes: xlabel='Area'>"
      ]
     },
     "execution_count": 90,
     "metadata": {},
     "output_type": "execute_result"
    },
    {
     "data": {
      "image/png": "[encoded data removed]",
      "text/plain": [
       "<Figure size 640x480 with 1 Axes>"
      ]
     },
     "metadata": {},
     "output_type": "display_data"
    }
   ],
   "source": [
    "sns.boxplot(x=df['Area'])"
   ]
  },
  {
   "cell_type": "code",
   "execution_count": null,
   "metadata": {},
   "outputs": [
    {
     "data": {
      "text/plain": [
       "<Axes: xlabel='Area', ylabel='Price'>"
      ]
     },
     "execution_count": 91,
     "metadata": {},
     "output_type": "execute_result"
    },
    {
     "data": {
      "image/png": "[encoded data removed]",
      "text/plain": [
       "<Figure size 640x480 with 1 Axes>"
      ]
     },
     "metadata": {},
     "output_type": "display_data"
    }
   ],
   "source": [
    "sns.scatterplot(x='Area',y='Price',data=df)"
   ]
  },
  {
   "cell_type": "code",
   "execution_count": null,
   "metadata": {},
   "outputs": [
    {
     "data": {
      "text/plain": [
       "<Axes: xlabel='Bedrooms', ylabel='Price'>"
      ]
     },
     "execution_count": 92,
     "metadata": {},
     "output_type": "execute_result"
    },
    {
     "data": {
      "image/png": "[encoded data removed]",
      "text/plain": [
       "<Figure size 640x480 with 1 Axes>"
      ]
     },
     "metadata": {},
     "output_type": "display_data"
    }
   ],
   "source": [
    "sns.scatterplot(x='Bedrooms',y='Price',data=df)"
   ]
  },
  {
   "cell_type": "code",
   "execution_count": null,
   "metadata": {},
   "outputs": [
    {
     "data": {
      "text/plain": [
       "<Axes: xlabel='Bathrooms', ylabel='Price'>"
      ]
     },
     "execution_count": 93,
     "metadata": {},
     "output_type": "execute_result"
    },
    {
     "data": {
      "image/png": "[encoded data removed]",
      "text/plain": [
       "<Figure size 640x480 with 1 Axes>"
      ]
     },
     "metadata": {},
     "output_type": "display_data"
    }
   ],
   "source": [
    "sns.scatterplot(x='Bathrooms',y='Price',data=df)"
   ]
  },
  {
   "cell_type": "code",
   "execution_count": null,
   "metadata": {},
   "outputs": [
    {
     "name": "stdout",
     "output_type": "stream",
     "text": [
      "Training set: (870, 5), Test set: (218, 5)\n"
     ]
    }
   ],
   "source": [
    "from sklearn.model_selection import train_test_split\n",
    "X=df.drop(columns=['Price'])\n",
    "y=df['Price']\n",
    "X_train,X_test,y_train,y_test=train_test_split(X,y,test_size=0.2,random_state=42)\n",
    "print(f\"Training set: {X_train.shape}, Test set: {X_test.shape}\")"
   ]
  },
  {
   "cell_type": "code",
   "execution_count": null,
   "metadata": {},
   "outputs": [
    {
     "name": "stdout",
     "output_type": "stream",
     "text": [
      "Linear Regression Performane Metrics\n",
      "Mean Absolute Error: 0.14339482108966622\n",
      "Mean Squared Error: 0.036974775071379466\n",
      "R^2: 0.8443899136816104\n"
     ]
    }
   ],
   "source": [
    "from sklearn.linear_model import LinearRegression\n",
    "from sklearn.metrics import mean_squared_error, r2_score, mean_absolute_error\n",
    "linear=LinearRegression()\n",
    "linear.fit(X_train,y_train)\n",
    "y_pred_linear=linear.predict(X_test)\n",
    "mae=mean_absolute_error(y_test,y_pred_linear)\n",
    "mse=mean_squared_error(y_test,y_pred_linear)\n",
    "r2=r2_score(y_test,y_pred_linear)\n",
    "print(\"Linear Regression Performane Metrics\")\n",
    "print(f\"Mean Absolute Error: {mae}\")\n",
    "print(f\"Mean Squared Error: {mse}\")\n",
    "print(f\"R^2: {r2}\")"
   ]
  },
  {
   "cell_type": "code",
   "execution_count": null,
   "metadata": {},
   "outputs": [
    {
     "name": "stdout",
     "output_type": "stream",
     "text": [
      "Random Forest Performane Metrics\n",
      "Mean Absolute Error: 0.11905056629724185\n",
      "Mean Squared Error: 0.03084956566242523\n",
      "R^2: 0.8701681466257065\n"
     ]
    }
   ],
   "source": [
    "from sklearn.ensemble import RandomForestRegressor\n",
    "from sklearn.metrics import mean_squared_error, r2_score, mean_absolute_error\n",
    "random=RandomForestRegressor(n_estimators=100,random_state=42)\n",
    "random.fit(X_train,y_train)\n",
    "y_pred_random=random.predict(X_test)\n",
    "mae_random=mean_absolute_error(y_test,y_pred_random)\n",
    "mse_random=mean_squared_error(y_test,y_pred_random)\n",
    "r2_random=r2_score(y_test,y_pred_random)\n",
    "print(\"Random Forest Performane Metrics\")\n",
    "print(f\"Mean Absolute Error: {mae_random}\")\n",
    "print(f\"Mean Squared Error: {mse_random}\")\n",
    "print(f\"R^2: {r2_random}\")"
   ]
  },
  {
   "cell_type": "code",
   "execution_count": null,
   "metadata": {},
   "outputs": [
    {
     "name": "stdout",
     "output_type": "stream",
     "text": [
      "Collecting xgboost\n",
      "  Downloading xgboost-2.1.4-py3-none-win_amd64.whl.metadata (2.1 kB)\n",
      "Requirement already satisfied: numpy in c:\\users\\akhil\\appdata\\local\\packages\\pythonsoftwarefoundation.python.3.11_qbz5n2kfra8p0\\localcache\\local-packages\\python311\\site-packages (from xgboost) (2.2.1)\n",
      "Requirement already satisfied: scipy in c:\\users\\akhil\\appdata\\local\\packages\\pythonsoftwarefoundation.python.3.11_qbz5n2kfra8p0\\localcache\\local-packages\\python311\\site-packages (from xgboost) (1.15.1)\n",
      "Downloading xgboost-2.1.4-py3-none-win_amd64.whl (124.9 MB)\n",
      "   ---------------------------------------- 0.0/124.9 MB ? eta -:--:--\n",
      "   ---------------------------------------- 0.0/124.9 MB ? eta -:--:--\n",
      "   ---------------------------------------- 0.0/124.9 MB 487.6 kB/s eta 0:04:17\n",
      "   ---------------------------------------- 0.2/124.9 MB 1.5 MB/s eta 0:01:25\n",
      "   ---------------------------------------- 0.2/124.9 MB 1.4 MB/s eta 0:01:32\n",
      "   ---------------------------------------- 0.6/124.9 MB 2.7 MB/s eta 0:00:47\n",
      "   ---------------------------------------- 0.8/124.9 MB 2.9 MB/s eta 0:00:43\n",
      "   ---------------------------------------- 0.9/124.9 MB 3.1 MB/s eta 0:00:40\n",
      "   ---------------------------------------- 1.1/124.9 MB 3.2 MB/s eta 0:00:39\n",
      "   ---------------------------------------- 1.4/124.9 MB 3.3 MB/s eta 0:00:38\n",
      "    --------------------------------------- 1.6/124.9 MB 3.4 MB/s eta 0:00:36\n",
      "    --------------------------------------- 1.8/124.9 MB 3.6 MB/s eta 0:00:35\n",
      "    --------------------------------------- 2.1/124.9 MB 3.7 MB/s eta 0:00:33\n",
      "    --------------------------------------- 2.3/124.9 MB 3.8 MB/s eta 0:00:33\n",
      "    --------------------------------------- 2.5/124.9 MB 4.0 MB/s eta 0:00:31\n",
      "    --------------------------------------- 2.7/124.9 MB 4.0 MB/s eta 0:00:31\n",
      "    --------------------------------------- 2.9/124.9 MB 4.0 MB/s eta 0:00:31\n",
      "    --------------------------------------- 2.9/124.9 MB 3.8 MB/s eta 0:00:32\n",
      "   - -------------------------------------- 3.2/124.9 MB 3.9 MB/s eta 0:00:32\n",
      "   - -------------------------------------- 3.4/124.9 MB 3.9 MB/s eta 0:00:32\n",
      "   - -------------------------------------- 3.5/124.9 MB 3.9 MB/s eta 0:00:32\n",
      "   - -------------------------------------- 3.7/124.9 MB 3.9 MB/s eta 0:00:32\n",
      "   - -------------------------------------- 3.9/124.9 MB 3.9 MB/s eta 0:00:32\n",
      "   - -------------------------------------- 4.1/124.9 MB 3.9 MB/s eta 0:00:32\n",
      "   - -------------------------------------- 4.3/124.9 MB 3.9 MB/s eta 0:00:31\n",
      "   - -------------------------------------- 4.5/124.9 MB 3.8 MB/s eta 0:00:32\n",
      "   - -------------------------------------- 4.6/124.9 MB 3.9 MB/s eta 0:00:31\n",
      "   - -------------------------------------- 4.6/124.9 MB 3.7 MB/s eta 0:00:33\n",
      "   - -------------------------------------- 4.7/124.9 MB 3.7 MB/s eta 0:00:33\n",
      "   - -------------------------------------- 4.9/124.9 MB 3.7 MB/s eta 0:00:33\n",
      "   - -------------------------------------- 5.0/124.9 MB 3.6 MB/s eta 0:00:33\n",
      "   - -------------------------------------- 5.2/124.9 MB 3.6 MB/s eta 0:00:34\n",
      "   - -------------------------------------- 5.4/124.9 MB 3.6 MB/s eta 0:00:34\n",
      "   - -------------------------------------- 5.5/124.9 MB 3.6 MB/s eta 0:00:34\n",
      "   - -------------------------------------- 5.6/124.9 MB 3.6 MB/s eta 0:00:34\n",
      "   - -------------------------------------- 5.8/124.9 MB 3.6 MB/s eta 0:00:34\n",
      "   - -------------------------------------- 5.9/124.9 MB 3.6 MB/s eta 0:00:34\n",
      "   - -------------------------------------- 6.1/124.9 MB 3.6 MB/s eta 0:00:34\n",
      "   - -------------------------------------- 6.2/124.9 MB 3.5 MB/s eta 0:00:34\n",
      "   -- ------------------------------------- 6.3/124.9 MB 3.5 MB/s eta 0:00:34\n",
      "   -- ------------------------------------- 6.5/124.9 MB 3.5 MB/s eta 0:00:34\n",
      "   -- ------------------------------------- 6.7/124.9 MB 3.5 MB/s eta 0:00:34\n",
      "   -- ------------------------------------- 6.8/124.9 MB 3.5 MB/s eta 0:00:34\n",
      "   -- ------------------------------------- 7.0/124.9 MB 3.5 MB/s eta 0:00:34\n",
      "   -- ------------------------------------- 7.2/124.9 MB 3.5 MB/s eta 0:00:34\n",
      "   -- ------------------------------------- 7.2/124.9 MB 3.5 MB/s eta 0:00:34\n",
      "   -- ------------------------------------- 7.2/124.9 MB 3.4 MB/s eta 0:00:35\n",
      "   -- ------------------------------------- 7.4/124.9 MB 3.4 MB/s eta 0:00:35\n",
      "   -- ------------------------------------- 7.5/124.9 MB 3.4 MB/s eta 0:00:35\n",
      "   -- ------------------------------------- 7.7/124.9 MB 3.4 MB/s eta 0:00:35\n",
      "   -- ------------------------------------- 7.8/124.9 MB 3.4 MB/s eta 0:00:35\n",
      "   -- ------------------------------------- 8.0/124.9 MB 3.4 MB/s eta 0:00:35\n",
      "   -- ------------------------------------- 8.2/124.9 MB 3.4 MB/s eta 0:00:35\n",
      "   -- ------------------------------------- 8.4/124.9 MB 3.4 MB/s eta 0:00:35\n",
      "   -- ------------------------------------- 8.5/124.9 MB 3.4 MB/s eta 0:00:35\n",
      "   -- ------------------------------------- 8.7/124.9 MB 3.4 MB/s eta 0:00:35\n",
      "   -- ------------------------------------- 8.8/124.9 MB 3.4 MB/s eta 0:00:34\n",
      "   -- ------------------------------------- 9.0/124.9 MB 3.4 MB/s eta 0:00:35\n",
      "   -- ------------------------------------- 9.1/124.9 MB 3.4 MB/s eta 0:00:35\n",
      "   -- ------------------------------------- 9.2/124.9 MB 3.4 MB/s eta 0:00:35\n",
      "   -- ------------------------------------- 9.3/124.9 MB 3.4 MB/s eta 0:00:35\n",
      "   --- ------------------------------------ 9.4/124.9 MB 3.3 MB/s eta 0:00:35\n",
      "   --- ------------------------------------ 9.6/124.9 MB 3.3 MB/s eta 0:00:35\n",
      "   --- ------------------------------------ 9.7/124.9 MB 3.3 MB/s eta 0:00:35\n",
      "   --- ------------------------------------ 9.9/124.9 MB 3.3 MB/s eta 0:00:35\n",
      "   --- ------------------------------------ 10.1/124.9 MB 3.3 MB/s eta 0:00:35\n",
      "   --- ------------------------------------ 10.2/124.9 MB 3.3 MB/s eta 0:00:35\n",
      "   --- ------------------------------------ 10.4/124.9 MB 3.4 MB/s eta 0:00:34\n",
      "   --- ------------------------------------ 10.5/124.9 MB 3.4 MB/s eta 0:00:34\n",
      "   --- ------------------------------------ 10.7/124.9 MB 3.4 MB/s eta 0:00:34\n",
      "   --- ------------------------------------ 10.8/124.9 MB 3.4 MB/s eta 0:00:34\n",
      "   --- ------------------------------------ 11.0/124.9 MB 3.4 MB/s eta 0:00:34\n",
      "   --- ------------------------------------ 11.1/124.9 MB 3.4 MB/s eta 0:00:34\n",
      "   --- ------------------------------------ 11.3/124.9 MB 3.4 MB/s eta 0:00:34\n",
      "   --- ------------------------------------ 11.5/124.9 MB 3.3 MB/s eta 0:00:34\n",
      "   --- ------------------------------------ 11.7/124.9 MB 3.3 MB/s eta 0:00:34\n",
      "   --- ------------------------------------ 11.9/124.9 MB 3.3 MB/s eta 0:00:34\n",
      "   --- ------------------------------------ 12.1/124.9 MB 3.3 MB/s eta 0:00:35\n",
      "   --- ------------------------------------ 12.3/124.9 MB 3.3 MB/s eta 0:00:35\n",
      "   --- ------------------------------------ 12.4/124.9 MB 3.3 MB/s eta 0:00:35\n",
      "   ---- ----------------------------------- 12.6/124.9 MB 3.3 MB/s eta 0:00:35\n",
      "   ---- ----------------------------------- 12.7/124.9 MB 3.2 MB/s eta 0:00:35\n",
      "   ---- ----------------------------------- 12.9/124.9 MB 3.2 MB/s eta 0:00:35\n",
      "   ---- ----------------------------------- 13.0/124.9 MB 3.2 MB/s eta 0:00:35\n",
      "   ---- ----------------------------------- 13.1/124.9 MB 3.2 MB/s eta 0:00:35\n",
      "   ---- ----------------------------------- 13.2/124.9 MB 3.2 MB/s eta 0:00:35\n",
      "   ---- ----------------------------------- 13.4/124.9 MB 3.2 MB/s eta 0:00:35\n",
      "   ---- ----------------------------------- 13.5/124.9 MB 3.2 MB/s eta 0:00:35\n",
      "   ---- ----------------------------------- 13.6/124.9 MB 3.2 MB/s eta 0:00:36\n",
      "   ---- ----------------------------------- 13.7/124.9 MB 3.2 MB/s eta 0:00:36\n",
      "   ---- ----------------------------------- 13.8/124.9 MB 3.1 MB/s eta 0:00:36\n",
      "   ---- ----------------------------------- 14.0/124.9 MB 3.1 MB/s eta 0:00:36\n",
      "   ---- ----------------------------------- 14.1/124.9 MB 3.1 MB/s eta 0:00:36\n",
      "   ---- ----------------------------------- 14.3/124.9 MB 3.1 MB/s eta 0:00:36\n",
      "   ---- ----------------------------------- 14.4/124.9 MB 3.1 MB/s eta 0:00:36\n",
      "   ---- ----------------------------------- 14.5/124.9 MB 3.1 MB/s eta 0:00:36\n",
      "   ---- ----------------------------------- 14.7/124.9 MB 3.1 MB/s eta 0:00:36\n",
      "   ---- ----------------------------------- 14.8/124.9 MB 3.1 MB/s eta 0:00:36\n",
      "   ---- ----------------------------------- 14.9/124.9 MB 3.1 MB/s eta 0:00:36\n",
      "   ---- ----------------------------------- 15.1/124.9 MB 3.1 MB/s eta 0:00:36\n",
      "   ---- ----------------------------------- 15.2/124.9 MB 3.1 MB/s eta 0:00:36\n",
      "   ---- ----------------------------------- 15.3/124.9 MB 3.1 MB/s eta 0:00:36\n",
      "   ---- ----------------------------------- 15.5/124.9 MB 3.1 MB/s eta 0:00:36\n",
      "   ----- ---------------------------------- 15.6/124.9 MB 3.1 MB/s eta 0:00:36\n",
      "   ----- ---------------------------------- 15.8/124.9 MB 3.1 MB/s eta 0:00:36\n",
      "   ----- ---------------------------------- 16.0/124.9 MB 3.1 MB/s eta 0:00:35\n",
      "   ----- ---------------------------------- 16.1/124.9 MB 3.1 MB/s eta 0:00:35\n",
      "   ----- ---------------------------------- 16.3/124.9 MB 3.1 MB/s eta 0:00:35\n",
      "   ----- ---------------------------------- 16.5/124.9 MB 3.1 MB/s eta 0:00:35\n",
      "   ----- ---------------------------------- 16.7/124.9 MB 3.2 MB/s eta 0:00:35\n",
      "   ----- ---------------------------------- 16.9/124.9 MB 3.2 MB/s eta 0:00:35\n",
      "   ----- ---------------------------------- 17.1/124.9 MB 3.2 MB/s eta 0:00:34\n",
      "   ----- ---------------------------------- 17.3/124.9 MB 3.2 MB/s eta 0:00:34\n",
      "   ----- ---------------------------------- 17.5/124.9 MB 3.3 MB/s eta 0:00:33\n",
      "   ----- ---------------------------------- 17.7/124.9 MB 3.3 MB/s eta 0:00:33\n",
      "   ----- ---------------------------------- 17.9/124.9 MB 3.3 MB/s eta 0:00:33\n",
      "   ----- ---------------------------------- 18.1/124.9 MB 3.3 MB/s eta 0:00:33\n",
      "   ----- ---------------------------------- 18.3/124.9 MB 3.3 MB/s eta 0:00:33\n",
      "   ----- ---------------------------------- 18.5/124.9 MB 3.3 MB/s eta 0:00:33\n",
      "   ----- ---------------------------------- 18.7/124.9 MB 3.3 MB/s eta 0:00:32\n",
      "   ------ --------------------------------- 18.9/124.9 MB 3.3 MB/s eta 0:00:32\n",
      "   ------ --------------------------------- 18.9/124.9 MB 3.3 MB/s eta 0:00:32\n",
      "   ------ --------------------------------- 19.0/124.9 MB 3.3 MB/s eta 0:00:33\n",
      "   ------ --------------------------------- 19.2/124.9 MB 3.3 MB/s eta 0:00:33\n",
      "   ------ --------------------------------- 19.3/124.9 MB 3.3 MB/s eta 0:00:32\n",
      "   ------ --------------------------------- 19.4/124.9 MB 3.3 MB/s eta 0:00:33\n",
      "   ------ --------------------------------- 19.5/124.9 MB 3.3 MB/s eta 0:00:33\n",
      "   ------ --------------------------------- 19.6/124.9 MB 3.3 MB/s eta 0:00:32\n",
      "   ------ --------------------------------- 19.8/124.9 MB 3.3 MB/s eta 0:00:32\n",
      "   ------ --------------------------------- 20.0/124.9 MB 3.3 MB/s eta 0:00:32\n",
      "   ------ --------------------------------- 20.1/124.9 MB 3.3 MB/s eta 0:00:32\n",
      "   ------ --------------------------------- 20.3/124.9 MB 3.3 MB/s eta 0:00:32\n",
      "   ------ --------------------------------- 20.4/124.9 MB 3.3 MB/s eta 0:00:32\n",
      "   ------ --------------------------------- 20.6/124.9 MB 3.3 MB/s eta 0:00:32\n",
      "   ------ --------------------------------- 20.8/124.9 MB 3.3 MB/s eta 0:00:32\n",
      "   ------ --------------------------------- 21.0/124.9 MB 3.3 MB/s eta 0:00:32\n",
      "   ------ --------------------------------- 21.1/124.9 MB 3.3 MB/s eta 0:00:32\n",
      "   ------ --------------------------------- 21.2/124.9 MB 3.3 MB/s eta 0:00:32\n",
      "   ------ --------------------------------- 21.3/124.9 MB 3.3 MB/s eta 0:00:32\n",
      "   ------ --------------------------------- 21.5/124.9 MB 3.3 MB/s eta 0:00:32\n",
      "   ------ --------------------------------- 21.6/124.9 MB 3.3 MB/s eta 0:00:32\n",
      "   ------ --------------------------------- 21.7/124.9 MB 3.3 MB/s eta 0:00:32\n",
      "   ------- -------------------------------- 21.9/124.9 MB 3.3 MB/s eta 0:00:32\n",
      "   ------- -------------------------------- 22.0/124.9 MB 3.2 MB/s eta 0:00:32\n",
      "   ------- -------------------------------- 22.2/124.9 MB 3.2 MB/s eta 0:00:32\n",
      "   ------- -------------------------------- 22.4/124.9 MB 3.2 MB/s eta 0:00:32\n",
      "   ------- -------------------------------- 22.4/124.9 MB 3.2 MB/s eta 0:00:33\n",
      "   ------- -------------------------------- 22.6/124.9 MB 3.2 MB/s eta 0:00:33\n",
      "   ------- -------------------------------- 22.7/124.9 MB 3.2 MB/s eta 0:00:33\n",
      "   ------- -------------------------------- 22.8/124.9 MB 3.2 MB/s eta 0:00:33\n",
      "   ------- -------------------------------- 23.0/124.9 MB 3.2 MB/s eta 0:00:32\n",
      "   ------- -------------------------------- 23.2/124.9 MB 3.2 MB/s eta 0:00:32\n",
      "   ------- -------------------------------- 23.4/124.9 MB 3.2 MB/s eta 0:00:32\n",
      "   ------- -------------------------------- 23.6/124.9 MB 3.2 MB/s eta 0:00:32\n",
      "   ------- -------------------------------- 23.8/124.9 MB 3.3 MB/s eta 0:00:31\n",
      "   ------- -------------------------------- 24.0/124.9 MB 3.3 MB/s eta 0:00:31\n",
      "   ------- -------------------------------- 24.1/124.9 MB 3.3 MB/s eta 0:00:31\n",
      "   ------- -------------------------------- 24.2/124.9 MB 3.3 MB/s eta 0:00:31\n",
      "   ------- -------------------------------- 24.3/124.9 MB 3.3 MB/s eta 0:00:31\n",
      "   ------- -------------------------------- 24.5/124.9 MB 3.3 MB/s eta 0:00:31\n",
      "   ------- -------------------------------- 24.6/124.9 MB 3.3 MB/s eta 0:00:31\n",
      "   ------- -------------------------------- 24.8/124.9 MB 3.3 MB/s eta 0:00:31\n",
      "   ------- -------------------------------- 24.9/124.9 MB 3.3 MB/s eta 0:00:31\n",
      "   -------- ------------------------------- 25.1/124.9 MB 3.3 MB/s eta 0:00:30\n",
      "   -------- ------------------------------- 25.3/124.9 MB 3.3 MB/s eta 0:00:30\n",
      "   -------- ------------------------------- 25.5/124.9 MB 3.3 MB/s eta 0:00:30\n",
      "   -------- ------------------------------- 25.6/124.9 MB 3.4 MB/s eta 0:00:30\n",
      "   -------- ------------------------------- 25.8/124.9 MB 3.4 MB/s eta 0:00:30\n",
      "   -------- ------------------------------- 25.9/124.9 MB 3.4 MB/s eta 0:00:30\n",
      "   -------- ------------------------------- 26.1/124.9 MB 3.4 MB/s eta 0:00:30\n",
      "   -------- ------------------------------- 26.2/124.9 MB 3.3 MB/s eta 0:00:30\n",
      "   -------- ------------------------------- 26.3/124.9 MB 3.3 MB/s eta 0:00:30\n",
      "   -------- ------------------------------- 26.3/124.9 MB 3.3 MB/s eta 0:00:30\n",
      "   -------- ------------------------------- 26.4/124.9 MB 3.3 MB/s eta 0:00:31\n",
      "   -------- ------------------------------- 26.4/124.9 MB 3.2 MB/s eta 0:00:31\n",
      "   -------- ------------------------------- 26.5/124.9 MB 3.2 MB/s eta 0:00:31\n",
      "   -------- ------------------------------- 26.5/124.9 MB 3.2 MB/s eta 0:00:32\n",
      "   -------- ------------------------------- 26.6/124.9 MB 3.1 MB/s eta 0:00:32\n",
      "   -------- ------------------------------- 26.7/124.9 MB 3.1 MB/s eta 0:00:32\n",
      "   -------- ------------------------------- 26.9/124.9 MB 3.1 MB/s eta 0:00:32\n",
      "   -------- ------------------------------- 27.0/124.9 MB 3.1 MB/s eta 0:00:32\n",
      "   -------- ------------------------------- 27.2/124.9 MB 3.1 MB/s eta 0:00:32\n",
      "   -------- ------------------------------- 27.3/124.9 MB 3.1 MB/s eta 0:00:32\n",
      "   -------- ------------------------------- 27.5/124.9 MB 3.1 MB/s eta 0:00:32\n",
      "   -------- ------------------------------- 27.7/124.9 MB 3.1 MB/s eta 0:00:32\n",
      "   -------- ------------------------------- 27.8/124.9 MB 3.0 MB/s eta 0:00:32\n",
      "   -------- ------------------------------- 28.0/124.9 MB 3.0 MB/s eta 0:00:32\n",
      "   --------- ------------------------------ 28.1/124.9 MB 3.0 MB/s eta 0:00:32\n",
      "   --------- ------------------------------ 28.3/124.9 MB 3.0 MB/s eta 0:00:33\n",
      "   --------- ------------------------------ 28.3/124.9 MB 3.0 MB/s eta 0:00:33\n",
      "   --------- ------------------------------ 28.4/124.9 MB 3.0 MB/s eta 0:00:33\n",
      "   --------- ------------------------------ 28.5/124.9 MB 2.9 MB/s eta 0:00:33\n",
      "   --------- ------------------------------ 28.6/124.9 MB 2.9 MB/s eta 0:00:34\n",
      "   --------- ------------------------------ 28.7/124.9 MB 2.9 MB/s eta 0:00:34\n",
      "   --------- ------------------------------ 29.0/124.9 MB 2.9 MB/s eta 0:00:34\n",
      "   --------- ------------------------------ 29.1/124.9 MB 2.9 MB/s eta 0:00:34\n",
      "   --------- ------------------------------ 29.3/124.9 MB 2.9 MB/s eta 0:00:33\n",
      "   --------- ------------------------------ 29.5/124.9 MB 2.9 MB/s eta 0:00:33\n",
      "   --------- ------------------------------ 29.7/124.9 MB 3.0 MB/s eta 0:00:33\n",
      "   --------- ------------------------------ 29.9/124.9 MB 3.0 MB/s eta 0:00:32\n",
      "   --------- ------------------------------ 30.0/124.9 MB 3.0 MB/s eta 0:00:32\n",
      "   --------- ------------------------------ 30.2/124.9 MB 3.0 MB/s eta 0:00:32\n",
      "   --------- ------------------------------ 30.5/124.9 MB 3.0 MB/s eta 0:00:32\n",
      "   --------- ------------------------------ 30.6/124.9 MB 3.0 MB/s eta 0:00:32\n",
      "   --------- ------------------------------ 30.9/124.9 MB 3.0 MB/s eta 0:00:31\n",
      "   --------- ------------------------------ 31.0/124.9 MB 3.0 MB/s eta 0:00:31\n",
      "   ---------- ----------------------------- 31.3/124.9 MB 3.0 MB/s eta 0:00:31\n",
      "   ---------- ----------------------------- 31.5/124.9 MB 3.1 MB/s eta 0:00:31\n",
      "   ---------- ----------------------------- 31.7/124.9 MB 3.1 MB/s eta 0:00:30\n",
      "   ---------- ----------------------------- 31.9/124.9 MB 3.1 MB/s eta 0:00:30\n",
      "   ---------- ----------------------------- 32.0/124.9 MB 3.1 MB/s eta 0:00:30\n",
      "   ---------- ----------------------------- 32.1/124.9 MB 3.1 MB/s eta 0:00:30\n",
      "   ---------- ----------------------------- 32.2/124.9 MB 3.1 MB/s eta 0:00:31\n",
      "   ---------- ----------------------------- 32.2/124.9 MB 3.1 MB/s eta 0:00:31\n",
      "   ---------- ----------------------------- 32.4/124.9 MB 3.1 MB/s eta 0:00:31\n",
      "   ---------- ----------------------------- 32.6/124.9 MB 3.1 MB/s eta 0:00:30\n",
      "   ---------- ----------------------------- 32.7/124.9 MB 3.1 MB/s eta 0:00:30\n",
      "   ---------- ----------------------------- 32.9/124.9 MB 3.1 MB/s eta 0:00:30\n",
      "   ---------- ----------------------------- 33.0/124.9 MB 3.1 MB/s eta 0:00:30\n",
      "   ---------- ----------------------------- 33.2/124.9 MB 3.1 MB/s eta 0:00:30\n",
      "   ---------- ----------------------------- 33.3/124.9 MB 3.1 MB/s eta 0:00:30\n",
      "   ---------- ----------------------------- 33.5/124.9 MB 3.1 MB/s eta 0:00:30\n",
      "   ---------- ----------------------------- 33.6/124.9 MB 3.1 MB/s eta 0:00:30\n",
      "   ---------- ----------------------------- 33.8/124.9 MB 3.1 MB/s eta 0:00:30\n",
      "   ---------- ----------------------------- 33.9/124.9 MB 3.1 MB/s eta 0:00:30\n",
      "   ---------- ----------------------------- 34.1/124.9 MB 3.1 MB/s eta 0:00:30\n",
      "   ---------- ----------------------------- 34.3/124.9 MB 3.1 MB/s eta 0:00:30\n",
      "   ----------- ---------------------------- 34.4/124.9 MB 3.1 MB/s eta 0:00:30\n",
      "   ----------- ---------------------------- 34.5/124.9 MB 3.1 MB/s eta 0:00:29\n",
      "   ----------- ---------------------------- 34.5/124.9 MB 3.1 MB/s eta 0:00:30\n",
      "   ----------- ---------------------------- 34.6/124.9 MB 3.0 MB/s eta 0:00:30\n",
      "   ----------- ---------------------------- 34.7/124.9 MB 3.0 MB/s eta 0:00:30\n",
      "   ----------- ---------------------------- 34.8/124.9 MB 3.0 MB/s eta 0:00:31\n",
      "   ----------- ---------------------------- 34.9/124.9 MB 3.0 MB/s eta 0:00:30\n",
      "   ----------- ---------------------------- 35.0/124.9 MB 3.0 MB/s eta 0:00:31\n",
      "   ----------- ---------------------------- 35.1/124.9 MB 3.0 MB/s eta 0:00:31\n",
      "   ----------- ---------------------------- 35.3/124.9 MB 3.0 MB/s eta 0:00:31\n",
      "   ----------- ---------------------------- 35.4/124.9 MB 3.0 MB/s eta 0:00:31\n",
      "   ----------- ---------------------------- 35.6/124.9 MB 2.9 MB/s eta 0:00:31\n",
      "   ----------- ---------------------------- 35.7/124.9 MB 2.9 MB/s eta 0:00:31\n",
      "   ----------- ---------------------------- 35.9/124.9 MB 2.9 MB/s eta 0:00:31\n",
      "   ----------- ---------------------------- 36.0/124.9 MB 2.9 MB/s eta 0:00:31\n",
      "   ----------- ---------------------------- 36.1/124.9 MB 3.0 MB/s eta 0:00:30\n",
      "   ----------- ---------------------------- 36.3/124.9 MB 2.9 MB/s eta 0:00:31\n",
      "   ----------- ---------------------------- 36.4/124.9 MB 2.9 MB/s eta 0:00:31\n",
      "   ----------- ---------------------------- 36.6/124.9 MB 2.9 MB/s eta 0:00:31\n",
      "   ----------- ---------------------------- 36.7/124.9 MB 3.1 MB/s eta 0:00:29\n",
      "   ----------- ---------------------------- 36.9/124.9 MB 3.1 MB/s eta 0:00:29\n",
      "   ----------- ---------------------------- 37.0/124.9 MB 3.1 MB/s eta 0:00:29\n",
      "   ----------- ---------------------------- 37.2/124.9 MB 3.1 MB/s eta 0:00:28\n",
      "   ----------- ---------------------------- 37.4/124.9 MB 3.1 MB/s eta 0:00:28\n",
      "   ------------ --------------------------- 37.6/124.9 MB 3.1 MB/s eta 0:00:28\n",
      "   ------------ --------------------------- 37.7/124.9 MB 3.1 MB/s eta 0:00:28\n",
      "   ------------ --------------------------- 37.9/124.9 MB 3.1 MB/s eta 0:00:28\n",
      "   ------------ --------------------------- 38.0/124.9 MB 3.1 MB/s eta 0:00:28\n",
      "   ------------ --------------------------- 38.1/124.9 MB 3.1 MB/s eta 0:00:28\n",
      "   ------------ --------------------------- 38.3/124.9 MB 3.1 MB/s eta 0:00:28\n",
      "   ------------ --------------------------- 38.5/124.9 MB 3.2 MB/s eta 0:00:28\n",
      "   ------------ --------------------------- 38.7/124.9 MB 3.2 MB/s eta 0:00:27\n",
      "   ------------ --------------------------- 38.9/124.9 MB 3.3 MB/s eta 0:00:27\n",
      "   ------------ --------------------------- 39.1/124.9 MB 3.3 MB/s eta 0:00:27\n",
      "   ------------ --------------------------- 39.3/124.9 MB 3.3 MB/s eta 0:00:26\n",
      "   ------------ --------------------------- 39.4/124.9 MB 3.3 MB/s eta 0:00:26\n",
      "   ------------ --------------------------- 39.6/124.9 MB 3.3 MB/s eta 0:00:26\n",
      "   ------------ --------------------------- 39.7/124.9 MB 3.3 MB/s eta 0:00:27\n",
      "   ------------ --------------------------- 39.9/124.9 MB 3.3 MB/s eta 0:00:27\n",
      "   ------------ --------------------------- 40.0/124.9 MB 3.3 MB/s eta 0:00:27\n",
      "   ------------ --------------------------- 40.2/124.9 MB 3.2 MB/s eta 0:00:27\n",
      "   ------------ --------------------------- 40.3/124.9 MB 3.2 MB/s eta 0:00:27\n",
      "   ------------ --------------------------- 40.4/124.9 MB 3.2 MB/s eta 0:00:27\n",
      "   ------------ --------------------------- 40.6/124.9 MB 3.2 MB/s eta 0:00:27\n",
      "   ------------- -------------------------- 40.7/124.9 MB 3.2 MB/s eta 0:00:27\n",
      "   ------------- -------------------------- 40.9/124.9 MB 3.2 MB/s eta 0:00:27\n",
      "   ------------- -------------------------- 41.0/124.9 MB 3.2 MB/s eta 0:00:27\n",
      "   ------------- -------------------------- 41.2/124.9 MB 3.2 MB/s eta 0:00:27\n",
      "   ------------- -------------------------- 41.3/124.9 MB 3.1 MB/s eta 0:00:27\n",
      "   ------------- -------------------------- 41.4/124.9 MB 3.1 MB/s eta 0:00:27\n",
      "   ------------- -------------------------- 41.6/124.9 MB 3.1 MB/s eta 0:00:27\n",
      "   ------------- -------------------------- 41.7/124.9 MB 3.1 MB/s eta 0:00:27\n",
      "   ------------- -------------------------- 41.9/124.9 MB 3.1 MB/s eta 0:00:27\n",
      "   ------------- -------------------------- 42.0/124.9 MB 3.1 MB/s eta 0:00:27\n",
      "   ------------- -------------------------- 42.2/124.9 MB 3.1 MB/s eta 0:00:27\n",
      "   ------------- -------------------------- 42.4/124.9 MB 3.2 MB/s eta 0:00:27\n",
      "   ------------- -------------------------- 42.6/124.9 MB 3.2 MB/s eta 0:00:27\n",
      "   ------------- -------------------------- 42.7/124.9 MB 3.2 MB/s eta 0:00:26\n",
      "   ------------- -------------------------- 42.9/124.9 MB 3.2 MB/s eta 0:00:26\n",
      "   ------------- -------------------------- 43.1/124.9 MB 3.2 MB/s eta 0:00:26\n",
      "   ------------- -------------------------- 43.2/124.9 MB 3.2 MB/s eta 0:00:26\n",
      "   ------------- -------------------------- 43.3/124.9 MB 3.2 MB/s eta 0:00:26\n",
      "   ------------- -------------------------- 43.4/124.9 MB 3.1 MB/s eta 0:00:26\n",
      "   ------------- -------------------------- 43.5/124.9 MB 3.1 MB/s eta 0:00:26\n",
      "   ------------- -------------------------- 43.6/124.9 MB 3.1 MB/s eta 0:00:27\n",
      "   -------------- ------------------------- 43.8/124.9 MB 3.1 MB/s eta 0:00:27\n",
      "   -------------- ------------------------- 43.8/124.9 MB 3.1 MB/s eta 0:00:27\n",
      "   -------------- ------------------------- 44.0/124.9 MB 3.1 MB/s eta 0:00:27\n",
      "   -------------- ------------------------- 44.1/124.9 MB 3.1 MB/s eta 0:00:27\n",
      "   -------------- ------------------------- 44.2/124.9 MB 3.1 MB/s eta 0:00:27\n",
      "   -------------- ------------------------- 44.3/124.9 MB 3.1 MB/s eta 0:00:27\n",
      "   -------------- ------------------------- 44.4/124.9 MB 3.0 MB/s eta 0:00:27\n",
      "   -------------- ------------------------- 44.5/124.9 MB 3.0 MB/s eta 0:00:27\n",
      "   -------------- ------------------------- 44.6/124.9 MB 3.0 MB/s eta 0:00:27\n",
      "   -------------- ------------------------- 44.7/124.9 MB 3.0 MB/s eta 0:00:27\n",
      "   -------------- ------------------------- 44.8/124.9 MB 3.0 MB/s eta 0:00:27\n",
      "   -------------- ------------------------- 44.9/124.9 MB 3.0 MB/s eta 0:00:27\n",
      "   -------------- ------------------------- 44.9/124.9 MB 3.0 MB/s eta 0:00:27\n",
      "   -------------- ------------------------- 45.0/124.9 MB 3.0 MB/s eta 0:00:27\n",
      "   -------------- ------------------------- 45.1/124.9 MB 3.0 MB/s eta 0:00:27\n",
      "   -------------- ------------------------- 45.2/124.9 MB 3.0 MB/s eta 0:00:27\n",
      "   -------------- ------------------------- 45.3/124.9 MB 3.0 MB/s eta 0:00:27\n",
      "   -------------- ------------------------- 45.5/124.9 MB 3.0 MB/s eta 0:00:27\n",
      "   -------------- ------------------------- 45.6/124.9 MB 3.0 MB/s eta 0:00:27\n",
      "   -------------- ------------------------- 45.7/124.9 MB 3.0 MB/s eta 0:00:27\n",
      "   -------------- ------------------------- 45.9/124.9 MB 3.0 MB/s eta 0:00:27\n",
      "   -------------- ------------------------- 46.0/124.9 MB 3.0 MB/s eta 0:00:27\n",
      "   -------------- ------------------------- 46.1/124.9 MB 3.0 MB/s eta 0:00:27\n",
      "   -------------- ------------------------- 46.3/124.9 MB 3.0 MB/s eta 0:00:27\n",
      "   -------------- ------------------------- 46.5/124.9 MB 3.0 MB/s eta 0:00:27\n",
      "   -------------- ------------------------- 46.6/124.9 MB 3.0 MB/s eta 0:00:27\n",
      "   -------------- ------------------------- 46.7/124.9 MB 3.0 MB/s eta 0:00:27\n",
      "   -------------- ------------------------- 46.8/124.9 MB 3.0 MB/s eta 0:00:27\n",
      "   --------------- ------------------------ 47.0/124.9 MB 3.0 MB/s eta 0:00:27\n",
      "   --------------- ------------------------ 47.1/124.9 MB 2.9 MB/s eta 0:00:27\n",
      "   --------------- ------------------------ 47.3/124.9 MB 2.9 MB/s eta 0:00:27\n",
      "   --------------- ------------------------ 47.4/124.9 MB 2.9 MB/s eta 0:00:27\n",
      "   --------------- ------------------------ 47.6/124.9 MB 2.9 MB/s eta 0:00:27\n",
      "   --------------- ------------------------ 47.8/124.9 MB 2.9 MB/s eta 0:00:27\n",
      "   --------------- ------------------------ 48.0/124.9 MB 2.9 MB/s eta 0:00:27\n",
      "   --------------- ------------------------ 48.2/124.9 MB 3.0 MB/s eta 0:00:26\n",
      "   --------------- ------------------------ 48.4/124.9 MB 3.0 MB/s eta 0:00:26\n",
      "   --------------- ------------------------ 48.5/124.9 MB 3.0 MB/s eta 0:00:26\n",
      "   --------------- ------------------------ 48.7/124.9 MB 3.0 MB/s eta 0:00:26\n",
      "   --------------- ------------------------ 48.9/124.9 MB 3.0 MB/s eta 0:00:26\n",
      "   --------------- ------------------------ 49.1/124.9 MB 3.0 MB/s eta 0:00:26\n",
      "   --------------- ------------------------ 49.3/124.9 MB 3.0 MB/s eta 0:00:26\n",
      "   --------------- ------------------------ 49.5/124.9 MB 3.0 MB/s eta 0:00:26\n",
      "   --------------- ------------------------ 49.7/124.9 MB 3.0 MB/s eta 0:00:26\n",
      "   --------------- ------------------------ 49.8/124.9 MB 3.0 MB/s eta 0:00:25\n",
      "   ---------------- ----------------------- 50.1/124.9 MB 3.0 MB/s eta 0:00:25\n",
      "   ---------------- ----------------------- 50.3/124.9 MB 3.0 MB/s eta 0:00:25\n",
      "   ---------------- ----------------------- 50.5/124.9 MB 3.1 MB/s eta 0:00:25\n",
      "   ---------------- ----------------------- 50.6/124.9 MB 3.0 MB/s eta 0:00:25\n",
      "   ---------------- ----------------------- 50.8/124.9 MB 3.1 MB/s eta 0:00:25\n",
      "   ---------------- ----------------------- 50.9/124.9 MB 3.1 MB/s eta 0:00:25\n",
      "   ---------------- ----------------------- 51.1/124.9 MB 3.1 MB/s eta 0:00:25\n",
      "   ---------------- ----------------------- 51.2/124.9 MB 3.1 MB/s eta 0:00:25\n",
      "   ---------------- ----------------------- 51.4/124.9 MB 3.0 MB/s eta 0:00:25\n",
      "   ---------------- ----------------------- 51.5/124.9 MB 3.1 MB/s eta 0:00:24\n",
      "   ---------------- ----------------------- 51.7/124.9 MB 3.1 MB/s eta 0:00:24\n",
      "   ---------------- ----------------------- 51.9/124.9 MB 3.1 MB/s eta 0:00:24\n",
      "   ---------------- ----------------------- 52.0/124.9 MB 3.1 MB/s eta 0:00:24\n",
      "   ---------------- ----------------------- 52.2/124.9 MB 3.1 MB/s eta 0:00:24\n",
      "   ---------------- ----------------------- 52.4/124.9 MB 3.1 MB/s eta 0:00:24\n",
      "   ---------------- ----------------------- 52.6/124.9 MB 3.1 MB/s eta 0:00:24\n",
      "   ---------------- ----------------------- 52.7/124.9 MB 3.1 MB/s eta 0:00:24\n",
      "   ---------------- ----------------------- 52.9/124.9 MB 3.1 MB/s eta 0:00:24\n",
      "   ----------------- ---------------------- 53.1/124.9 MB 3.1 MB/s eta 0:00:24\n",
      "   ----------------- ---------------------- 53.3/124.9 MB 3.1 MB/s eta 0:00:23\n",
      "   ----------------- ---------------------- 53.5/124.9 MB 3.1 MB/s eta 0:00:23\n",
      "   ----------------- ---------------------- 53.6/124.9 MB 3.2 MB/s eta 0:00:23\n",
      "   ----------------- ---------------------- 53.7/124.9 MB 3.1 MB/s eta 0:00:23\n",
      "   ----------------- ---------------------- 53.9/124.9 MB 3.1 MB/s eta 0:00:23\n",
      "   ----------------- ---------------------- 54.0/124.9 MB 3.2 MB/s eta 0:00:23\n",
      "   ----------------- ---------------------- 54.1/124.9 MB 3.2 MB/s eta 0:00:23\n",
      "   ----------------- ---------------------- 54.2/124.9 MB 3.2 MB/s eta 0:00:23\n",
      "   ----------------- ---------------------- 54.3/124.9 MB 3.1 MB/s eta 0:00:23\n",
      "   ----------------- ---------------------- 54.4/124.9 MB 3.1 MB/s eta 0:00:23\n",
      "   ----------------- ---------------------- 54.5/124.9 MB 3.1 MB/s eta 0:00:23\n",
      "   ----------------- ---------------------- 54.6/124.9 MB 3.1 MB/s eta 0:00:23\n",
      "   ----------------- ---------------------- 54.7/124.9 MB 3.1 MB/s eta 0:00:23\n",
      "   ----------------- ---------------------- 54.8/124.9 MB 3.2 MB/s eta 0:00:23\n",
      "   ----------------- ---------------------- 55.0/124.9 MB 3.2 MB/s eta 0:00:23\n",
      "   ----------------- ---------------------- 55.1/124.9 MB 3.1 MB/s eta 0:00:23\n",
      "   ----------------- ---------------------- 55.2/124.9 MB 3.2 MB/s eta 0:00:22\n",
      "   ----------------- ---------------------- 55.3/124.9 MB 3.2 MB/s eta 0:00:22\n",
      "   ----------------- ---------------------- 55.5/124.9 MB 3.2 MB/s eta 0:00:22\n",
      "   ----------------- ---------------------- 55.6/124.9 MB 3.3 MB/s eta 0:00:22\n",
      "   ----------------- ---------------------- 55.7/124.9 MB 3.2 MB/s eta 0:00:22\n",
      "   ----------------- ---------------------- 55.9/124.9 MB 3.3 MB/s eta 0:00:22\n",
      "   ----------------- ---------------------- 56.0/124.9 MB 3.3 MB/s eta 0:00:22\n",
      "   ----------------- ---------------------- 56.2/124.9 MB 3.3 MB/s eta 0:00:21\n",
      "   ------------------ --------------------- 56.3/124.9 MB 3.3 MB/s eta 0:00:21\n",
      "   ------------------ --------------------- 56.5/124.9 MB 3.3 MB/s eta 0:00:21\n",
      "   ------------------ --------------------- 56.6/124.9 MB 3.3 MB/s eta 0:00:21\n",
      "   ------------------ --------------------- 56.7/124.9 MB 3.3 MB/s eta 0:00:21\n",
      "   ------------------ --------------------- 56.8/124.9 MB 3.3 MB/s eta 0:00:21\n",
      "   ------------------ --------------------- 57.0/124.9 MB 3.3 MB/s eta 0:00:21\n",
      "   ------------------ --------------------- 57.1/124.9 MB 3.3 MB/s eta 0:00:21\n",
      "   ------------------ --------------------- 57.3/124.9 MB 3.3 MB/s eta 0:00:21\n",
      "   ------------------ --------------------- 57.5/124.9 MB 3.3 MB/s eta 0:00:21\n",
      "   ------------------ --------------------- 57.7/124.9 MB 3.3 MB/s eta 0:00:21\n",
      "   ------------------ --------------------- 57.8/124.9 MB 3.3 MB/s eta 0:00:21\n",
      "   ------------------ --------------------- 57.9/124.9 MB 3.3 MB/s eta 0:00:21\n",
      "   ------------------ --------------------- 58.1/124.9 MB 3.3 MB/s eta 0:00:21\n",
      "   ------------------ --------------------- 58.3/124.9 MB 3.3 MB/s eta 0:00:21\n",
      "   ------------------ --------------------- 58.5/124.9 MB 3.3 MB/s eta 0:00:21\n",
      "   ------------------ --------------------- 58.6/124.9 MB 3.3 MB/s eta 0:00:21\n",
      "   ------------------ --------------------- 58.8/124.9 MB 3.3 MB/s eta 0:00:21\n",
      "   ------------------ --------------------- 59.0/124.9 MB 3.3 MB/s eta 0:00:21\n",
      "   ------------------ --------------------- 59.2/124.9 MB 3.3 MB/s eta 0:00:21\n",
      "   ------------------- -------------------- 59.4/124.9 MB 3.3 MB/s eta 0:00:21\n",
      "   ------------------- -------------------- 59.6/124.9 MB 3.3 MB/s eta 0:00:20\n",
      "   ------------------- -------------------- 59.8/124.9 MB 3.3 MB/s eta 0:00:20\n",
      "   ------------------- -------------------- 60.0/124.9 MB 3.3 MB/s eta 0:00:20\n",
      "   ------------------- -------------------- 60.2/124.9 MB 3.3 MB/s eta 0:00:20\n",
      "   ------------------- -------------------- 60.4/124.9 MB 3.3 MB/s eta 0:00:20\n",
      "   ------------------- -------------------- 60.4/124.9 MB 3.3 MB/s eta 0:00:20\n",
      "   ------------------- -------------------- 60.7/124.9 MB 3.2 MB/s eta 0:00:20\n",
      "   ------------------- -------------------- 60.8/124.9 MB 3.3 MB/s eta 0:00:20\n",
      "   ------------------- -------------------- 61.0/124.9 MB 3.2 MB/s eta 0:00:20\n",
      "   ------------------- -------------------- 61.2/124.9 MB 3.2 MB/s eta 0:00:20\n",
      "   ------------------- -------------------- 61.4/124.9 MB 3.2 MB/s eta 0:00:20\n",
      "   ------------------- -------------------- 61.5/124.9 MB 3.3 MB/s eta 0:00:20\n",
      "   ------------------- -------------------- 61.6/124.9 MB 3.2 MB/s eta 0:00:20\n",
      "   ------------------- -------------------- 61.8/124.9 MB 3.2 MB/s eta 0:00:20\n",
      "   ------------------- -------------------- 62.0/124.9 MB 3.3 MB/s eta 0:00:20\n",
      "   ------------------- -------------------- 62.2/124.9 MB 3.2 MB/s eta 0:00:20\n",
      "   ------------------- -------------------- 62.3/124.9 MB 3.2 MB/s eta 0:00:20\n",
      "   -------------------- ------------------- 62.5/124.9 MB 3.3 MB/s eta 0:00:20\n",
      "   -------------------- ------------------- 62.7/124.9 MB 3.3 MB/s eta 0:00:20\n",
      "   -------------------- ------------------- 62.9/124.9 MB 3.3 MB/s eta 0:00:20\n",
      "   -------------------- ------------------- 63.1/124.9 MB 3.3 MB/s eta 0:00:19\n",
      "   -------------------- ------------------- 63.2/124.9 MB 3.2 MB/s eta 0:00:20\n",
      "   -------------------- ------------------- 63.4/124.9 MB 3.2 MB/s eta 0:00:19\n",
      "   -------------------- ------------------- 63.6/124.9 MB 3.2 MB/s eta 0:00:19\n",
      "   -------------------- ------------------- 63.8/124.9 MB 3.2 MB/s eta 0:00:19\n",
      "   -------------------- ------------------- 63.9/124.9 MB 3.3 MB/s eta 0:00:19\n",
      "   -------------------- ------------------- 64.0/124.9 MB 3.3 MB/s eta 0:00:19\n",
      "   -------------------- ------------------- 64.1/124.9 MB 3.3 MB/s eta 0:00:19\n",
      "   -------------------- ------------------- 64.4/124.9 MB 3.3 MB/s eta 0:00:19\n",
      "   -------------------- ------------------- 64.6/124.9 MB 3.3 MB/s eta 0:00:19\n",
      "   -------------------- ------------------- 64.8/124.9 MB 3.4 MB/s eta 0:00:18\n",
      "   -------------------- ------------------- 64.9/124.9 MB 3.4 MB/s eta 0:00:18\n",
      "   -------------------- ------------------- 65.1/124.9 MB 3.4 MB/s eta 0:00:18\n",
      "   -------------------- ------------------- 65.2/124.9 MB 3.4 MB/s eta 0:00:18\n",
      "   -------------------- ------------------- 65.4/124.9 MB 3.5 MB/s eta 0:00:18\n",
      "   -------------------- ------------------- 65.6/124.9 MB 3.5 MB/s eta 0:00:18\n",
      "   --------------------- ------------------ 65.8/124.9 MB 3.5 MB/s eta 0:00:17\n",
      "   --------------------- ------------------ 65.9/124.9 MB 3.5 MB/s eta 0:00:17\n",
      "   --------------------- ------------------ 66.1/124.9 MB 3.5 MB/s eta 0:00:17\n",
      "   --------------------- ------------------ 66.3/124.9 MB 3.5 MB/s eta 0:00:17\n",
      "   --------------------- ------------------ 66.4/124.9 MB 3.5 MB/s eta 0:00:17\n",
      "   --------------------- ------------------ 66.7/124.9 MB 3.6 MB/s eta 0:00:17\n",
      "   --------------------- ------------------ 66.9/124.9 MB 3.6 MB/s eta 0:00:17\n",
      "   --------------------- ------------------ 67.1/124.9 MB 3.6 MB/s eta 0:00:16\n",
      "   --------------------- ------------------ 67.4/124.9 MB 3.7 MB/s eta 0:00:16\n",
      "   --------------------- ------------------ 67.5/124.9 MB 3.7 MB/s eta 0:00:16\n",
      "   --------------------- ------------------ 67.6/124.9 MB 3.7 MB/s eta 0:00:16\n",
      "   --------------------- ------------------ 67.7/124.9 MB 3.6 MB/s eta 0:00:16\n",
      "   --------------------- ------------------ 67.7/124.9 MB 3.6 MB/s eta 0:00:17\n",
      "   --------------------- ------------------ 67.8/124.9 MB 3.5 MB/s eta 0:00:17\n",
      "   --------------------- ------------------ 67.8/124.9 MB 3.5 MB/s eta 0:00:17\n",
      "   --------------------- ------------------ 67.9/124.9 MB 3.4 MB/s eta 0:00:17\n",
      "   --------------------- ------------------ 68.0/124.9 MB 3.4 MB/s eta 0:00:17\n",
      "   --------------------- ------------------ 68.1/124.9 MB 3.4 MB/s eta 0:00:17\n",
      "   --------------------- ------------------ 68.3/124.9 MB 3.4 MB/s eta 0:00:17\n",
      "   --------------------- ------------------ 68.5/124.9 MB 3.4 MB/s eta 0:00:17\n",
      "   --------------------- ------------------ 68.7/124.9 MB 3.4 MB/s eta 0:00:17\n",
      "   ---------------------- ----------------- 68.9/124.9 MB 3.4 MB/s eta 0:00:17\n",
      "   ---------------------- ----------------- 69.0/124.9 MB 3.4 MB/s eta 0:00:17\n",
      "   ---------------------- ----------------- 69.2/124.9 MB 3.4 MB/s eta 0:00:17\n",
      "   ---------------------- ----------------- 69.4/124.9 MB 3.4 MB/s eta 0:00:17\n",
      "   ---------------------- ----------------- 69.6/124.9 MB 3.4 MB/s eta 0:00:17\n",
      "   ---------------------- ----------------- 69.8/124.9 MB 3.4 MB/s eta 0:00:17\n",
      "   ---------------------- ----------------- 70.0/124.9 MB 3.4 MB/s eta 0:00:17\n",
      "   ---------------------- ----------------- 70.1/124.9 MB 3.4 MB/s eta 0:00:17\n",
      "   ---------------------- ----------------- 70.3/124.9 MB 3.4 MB/s eta 0:00:17\n",
      "   ---------------------- ----------------- 70.5/124.9 MB 3.4 MB/s eta 0:00:17\n",
      "   ---------------------- ----------------- 70.6/124.9 MB 3.4 MB/s eta 0:00:16\n",
      "   ---------------------- ----------------- 70.8/124.9 MB 3.4 MB/s eta 0:00:16\n",
      "   ---------------------- ----------------- 70.9/124.9 MB 3.4 MB/s eta 0:00:16\n",
      "   ---------------------- ----------------- 71.1/124.9 MB 3.4 MB/s eta 0:00:16\n",
      "   ---------------------- ----------------- 71.3/124.9 MB 3.4 MB/s eta 0:00:16\n",
      "   ---------------------- ----------------- 71.5/124.9 MB 3.4 MB/s eta 0:00:16\n",
      "   ---------------------- ----------------- 71.7/124.9 MB 3.4 MB/s eta 0:00:16\n",
      "   ----------------------- ---------------- 71.9/124.9 MB 3.4 MB/s eta 0:00:16\n",
      "   ----------------------- ---------------- 72.0/124.9 MB 3.4 MB/s eta 0:00:16\n",
      "   ----------------------- ---------------- 72.2/124.9 MB 3.4 MB/s eta 0:00:16\n",
      "   ----------------------- ---------------- 72.4/124.9 MB 3.4 MB/s eta 0:00:16\n",
      "   ----------------------- ---------------- 72.6/124.9 MB 3.5 MB/s eta 0:00:16\n",
      "   ----------------------- ---------------- 72.8/124.9 MB 3.5 MB/s eta 0:00:16\n",
      "   ----------------------- ---------------- 73.0/124.9 MB 3.5 MB/s eta 0:00:15\n",
      "   ----------------------- ---------------- 73.2/124.9 MB 3.5 MB/s eta 0:00:15\n",
      "   ----------------------- ---------------- 73.4/124.9 MB 3.5 MB/s eta 0:00:15\n",
      "   ----------------------- ---------------- 73.6/124.9 MB 3.5 MB/s eta 0:00:15\n",
      "   ----------------------- ---------------- 73.8/124.9 MB 3.5 MB/s eta 0:00:15\n",
      "   ----------------------- ---------------- 74.0/124.9 MB 3.5 MB/s eta 0:00:15\n",
      "   ----------------------- ---------------- 74.1/124.9 MB 3.5 MB/s eta 0:00:15\n",
      "   ----------------------- ---------------- 74.3/124.9 MB 3.5 MB/s eta 0:00:15\n",
      "   ----------------------- ---------------- 74.5/124.9 MB 3.5 MB/s eta 0:00:15\n",
      "   ----------------------- ---------------- 74.6/124.9 MB 3.5 MB/s eta 0:00:15\n",
      "   ----------------------- ---------------- 74.7/124.9 MB 3.5 MB/s eta 0:00:15\n",
      "   ----------------------- ---------------- 74.8/124.9 MB 3.5 MB/s eta 0:00:15\n",
      "   ------------------------ --------------- 75.0/124.9 MB 3.5 MB/s eta 0:00:15\n",
      "   ------------------------ --------------- 75.2/124.9 MB 3.5 MB/s eta 0:00:15\n",
      "   ------------------------ --------------- 75.3/124.9 MB 3.5 MB/s eta 0:00:15\n",
      "   ------------------------ --------------- 75.5/124.9 MB 3.5 MB/s eta 0:00:15\n",
      "   ------------------------ --------------- 75.6/124.9 MB 3.5 MB/s eta 0:00:15\n",
      "   ------------------------ --------------- 75.8/124.9 MB 3.5 MB/s eta 0:00:14\n",
      "   ------------------------ --------------- 76.0/124.9 MB 3.5 MB/s eta 0:00:14\n",
      "   ------------------------ --------------- 76.2/124.9 MB 3.5 MB/s eta 0:00:14\n",
      "   ------------------------ --------------- 76.4/124.9 MB 3.5 MB/s eta 0:00:14\n",
      "   ------------------------ --------------- 76.5/124.9 MB 3.5 MB/s eta 0:00:14\n",
      "   ------------------------ --------------- 76.7/124.9 MB 3.5 MB/s eta 0:00:14\n",
      "   ------------------------ --------------- 76.9/124.9 MB 3.5 MB/s eta 0:00:14\n",
      "   ------------------------ --------------- 77.1/124.9 MB 3.5 MB/s eta 0:00:14\n",
      "   ------------------------ --------------- 77.3/124.9 MB 3.5 MB/s eta 0:00:14\n",
      "   ------------------------ --------------- 77.5/124.9 MB 3.5 MB/s eta 0:00:14\n",
      "   ------------------------ --------------- 77.7/124.9 MB 3.5 MB/s eta 0:00:14\n",
      "   ------------------------ --------------- 77.9/124.9 MB 3.6 MB/s eta 0:00:14\n",
      "   ------------------------- -------------- 78.1/124.9 MB 3.8 MB/s eta 0:00:13\n",
      "   ------------------------- -------------- 78.3/124.9 MB 3.9 MB/s eta 0:00:13\n",
      "   ------------------------- -------------- 78.4/124.9 MB 3.9 MB/s eta 0:00:13\n",
      "   ------------------------- -------------- 78.6/124.9 MB 3.8 MB/s eta 0:00:13\n",
      "   ------------------------- -------------- 78.7/124.9 MB 3.8 MB/s eta 0:00:13\n",
      "   ------------------------- -------------- 78.8/124.9 MB 3.8 MB/s eta 0:00:13\n",
      "   ------------------------- -------------- 79.0/124.9 MB 3.8 MB/s eta 0:00:13\n",
      "   ------------------------- -------------- 79.2/124.9 MB 3.7 MB/s eta 0:00:13\n",
      "   ------------------------- -------------- 79.3/124.9 MB 3.7 MB/s eta 0:00:13\n",
      "   ------------------------- -------------- 79.5/124.9 MB 3.7 MB/s eta 0:00:13\n",
      "   ------------------------- -------------- 79.7/124.9 MB 3.7 MB/s eta 0:00:13\n",
      "   ------------------------- -------------- 79.8/124.9 MB 3.7 MB/s eta 0:00:13\n",
      "   ------------------------- -------------- 80.0/124.9 MB 3.7 MB/s eta 0:00:13\n",
      "   ------------------------- -------------- 80.1/124.9 MB 3.7 MB/s eta 0:00:13\n",
      "   ------------------------- -------------- 80.3/124.9 MB 3.7 MB/s eta 0:00:13\n",
      "   ------------------------- -------------- 80.5/124.9 MB 3.7 MB/s eta 0:00:13\n",
      "   ------------------------- -------------- 80.7/124.9 MB 3.7 MB/s eta 0:00:12\n",
      "   ------------------------- -------------- 80.9/124.9 MB 3.7 MB/s eta 0:00:12\n",
      "   ------------------------- -------------- 81.0/124.9 MB 3.7 MB/s eta 0:00:12\n",
      "   ------------------------- -------------- 81.1/124.9 MB 3.7 MB/s eta 0:00:12\n",
      "   -------------------------- ------------- 81.2/124.9 MB 3.7 MB/s eta 0:00:12\n",
      "   -------------------------- ------------- 81.3/124.9 MB 3.7 MB/s eta 0:00:12\n",
      "   -------------------------- ------------- 81.5/124.9 MB 3.7 MB/s eta 0:00:12\n",
      "   -------------------------- ------------- 81.6/124.9 MB 3.6 MB/s eta 0:00:12\n",
      "   -------------------------- ------------- 81.7/124.9 MB 3.6 MB/s eta 0:00:12\n",
      "   -------------------------- ------------- 81.9/124.9 MB 3.6 MB/s eta 0:00:13\n",
      "   -------------------------- ------------- 82.0/124.9 MB 3.6 MB/s eta 0:00:12\n",
      "   -------------------------- ------------- 82.2/124.9 MB 3.6 MB/s eta 0:00:13\n",
      "   -------------------------- ------------- 82.3/124.9 MB 3.6 MB/s eta 0:00:12\n",
      "   -------------------------- ------------- 82.5/124.9 MB 3.6 MB/s eta 0:00:12\n",
      "   -------------------------- ------------- 82.7/124.9 MB 3.5 MB/s eta 0:00:12\n",
      "   -------------------------- ------------- 82.8/124.9 MB 3.5 MB/s eta 0:00:12\n",
      "   -------------------------- ------------- 83.0/124.9 MB 3.5 MB/s eta 0:00:12\n",
      "   -------------------------- ------------- 83.1/124.9 MB 3.5 MB/s eta 0:00:12\n",
      "   -------------------------- ------------- 83.3/124.9 MB 3.5 MB/s eta 0:00:12\n",
      "   -------------------------- ------------- 83.5/124.9 MB 3.5 MB/s eta 0:00:12\n",
      "   -------------------------- ------------- 83.7/124.9 MB 3.5 MB/s eta 0:00:12\n",
      "   -------------------------- ------------- 83.8/124.9 MB 3.5 MB/s eta 0:00:12\n",
      "   -------------------------- ------------- 84.0/124.9 MB 3.5 MB/s eta 0:00:12\n",
      "   -------------------------- ------------- 84.2/124.9 MB 3.5 MB/s eta 0:00:12\n",
      "   --------------------------- ------------ 84.4/124.9 MB 3.5 MB/s eta 0:00:12\n",
      "   --------------------------- ------------ 84.6/124.9 MB 3.5 MB/s eta 0:00:12\n",
      "   --------------------------- ------------ 84.8/124.9 MB 3.5 MB/s eta 0:00:12\n",
      "   --------------------------- ------------ 85.0/124.9 MB 3.6 MB/s eta 0:00:12\n",
      "   --------------------------- ------------ 85.2/124.9 MB 3.6 MB/s eta 0:00:12\n",
      "   --------------------------- ------------ 85.3/124.9 MB 3.6 MB/s eta 0:00:12\n",
      "   --------------------------- ------------ 85.4/124.9 MB 3.6 MB/s eta 0:00:12\n",
      "   --------------------------- ------------ 85.6/124.9 MB 3.6 MB/s eta 0:00:12\n",
      "   --------------------------- ------------ 85.7/124.9 MB 3.5 MB/s eta 0:00:12\n",
      "   --------------------------- ------------ 85.9/124.9 MB 3.5 MB/s eta 0:00:12\n",
      "   --------------------------- ------------ 86.0/124.9 MB 3.5 MB/s eta 0:00:11\n",
      "   --------------------------- ------------ 86.2/124.9 MB 3.5 MB/s eta 0:00:11\n",
      "   --------------------------- ------------ 86.3/124.9 MB 3.5 MB/s eta 0:00:11\n",
      "   --------------------------- ------------ 86.5/124.9 MB 3.5 MB/s eta 0:00:11\n",
      "   --------------------------- ------------ 86.7/124.9 MB 3.5 MB/s eta 0:00:11\n",
      "   --------------------------- ------------ 86.8/124.9 MB 3.5 MB/s eta 0:00:11\n",
      "   --------------------------- ------------ 87.0/124.9 MB 3.5 MB/s eta 0:00:11\n",
      "   --------------------------- ------------ 87.2/124.9 MB 3.5 MB/s eta 0:00:11\n",
      "   --------------------------- ------------ 87.4/124.9 MB 3.5 MB/s eta 0:00:11\n",
      "   ---------------------------- ----------- 87.5/124.9 MB 3.5 MB/s eta 0:00:11\n",
      "   ---------------------------- ----------- 87.7/124.9 MB 3.5 MB/s eta 0:00:11\n",
      "   ---------------------------- ----------- 87.9/124.9 MB 3.5 MB/s eta 0:00:11\n",
      "   ---------------------------- ----------- 88.1/124.9 MB 3.5 MB/s eta 0:00:11\n",
      "   ---------------------------- ----------- 88.3/124.9 MB 3.5 MB/s eta 0:00:11\n",
      "   ---------------------------- ----------- 88.5/124.9 MB 3.5 MB/s eta 0:00:11\n",
      "   ---------------------------- ----------- 88.7/124.9 MB 3.5 MB/s eta 0:00:11\n",
      "   ---------------------------- ----------- 88.8/124.9 MB 3.5 MB/s eta 0:00:11\n",
      "   ---------------------------- ----------- 89.0/124.9 MB 3.5 MB/s eta 0:00:11\n",
      "   ---------------------------- ----------- 89.1/124.9 MB 3.5 MB/s eta 0:00:11\n",
      "   ---------------------------- ----------- 89.2/124.9 MB 3.5 MB/s eta 0:00:11\n",
      "   ---------------------------- ----------- 89.4/124.9 MB 3.5 MB/s eta 0:00:11\n",
      "   ---------------------------- ----------- 89.5/124.9 MB 3.5 MB/s eta 0:00:11\n",
      "   ---------------------------- ----------- 89.6/124.9 MB 3.5 MB/s eta 0:00:11\n",
      "   ---------------------------- ----------- 89.8/124.9 MB 3.4 MB/s eta 0:00:11\n",
      "   ---------------------------- ----------- 90.0/124.9 MB 3.4 MB/s eta 0:00:11\n",
      "   ---------------------------- ----------- 90.1/124.9 MB 3.4 MB/s eta 0:00:11\n",
      "   ---------------------------- ----------- 90.3/124.9 MB 3.4 MB/s eta 0:00:11\n",
      "   ---------------------------- ----------- 90.4/124.9 MB 3.4 MB/s eta 0:00:11\n",
      "   ----------------------------- ---------- 90.6/124.9 MB 3.4 MB/s eta 0:00:11\n",
      "   ----------------------------- ---------- 90.8/124.9 MB 3.4 MB/s eta 0:00:10\n",
      "   ----------------------------- ---------- 90.9/124.9 MB 3.4 MB/s eta 0:00:10\n",
      "   ----------------------------- ---------- 91.1/124.9 MB 3.4 MB/s eta 0:00:10\n",
      "   ----------------------------- ---------- 91.3/124.9 MB 3.5 MB/s eta 0:00:10\n",
      "   ----------------------------- ---------- 91.4/124.9 MB 3.5 MB/s eta 0:00:10\n",
      "   ----------------------------- ---------- 91.6/124.9 MB 3.5 MB/s eta 0:00:10\n",
      "   ----------------------------- ---------- 91.8/124.9 MB 3.5 MB/s eta 0:00:10\n",
      "   ----------------------------- ---------- 92.0/124.9 MB 3.6 MB/s eta 0:00:10\n",
      "   ----------------------------- ---------- 92.2/124.9 MB 3.6 MB/s eta 0:00:10\n",
      "   ----------------------------- ---------- 92.4/124.9 MB 3.6 MB/s eta 0:00:10\n",
      "   ----------------------------- ---------- 92.5/124.9 MB 3.6 MB/s eta 0:00:10\n",
      "   ----------------------------- ---------- 92.7/124.9 MB 3.6 MB/s eta 0:00:10\n",
      "   ----------------------------- ---------- 92.8/124.9 MB 3.6 MB/s eta 0:00:09\n",
      "   ----------------------------- ---------- 93.0/124.9 MB 3.6 MB/s eta 0:00:09\n",
      "   ----------------------------- ---------- 93.2/124.9 MB 3.6 MB/s eta 0:00:09\n",
      "   ----------------------------- ---------- 93.4/124.9 MB 3.6 MB/s eta 0:00:09\n",
      "   ----------------------------- ---------- 93.6/124.9 MB 3.6 MB/s eta 0:00:09\n",
      "   ------------------------------ --------- 93.9/124.9 MB 3.6 MB/s eta 0:00:09\n",
      "   ------------------------------ --------- 94.0/124.9 MB 3.7 MB/s eta 0:00:09\n",
      "   ------------------------------ --------- 94.3/124.9 MB 3.7 MB/s eta 0:00:09\n",
      "   ------------------------------ --------- 94.5/124.9 MB 3.7 MB/s eta 0:00:09\n",
      "   ------------------------------ --------- 94.7/124.9 MB 3.7 MB/s eta 0:00:09\n",
      "   ------------------------------ --------- 94.9/124.9 MB 3.7 MB/s eta 0:00:09\n",
      "   ------------------------------ --------- 95.1/124.9 MB 3.7 MB/s eta 0:00:09\n",
      "   ------------------------------ --------- 95.3/124.9 MB 3.7 MB/s eta 0:00:08\n",
      "   ------------------------------ --------- 95.6/124.9 MB 3.7 MB/s eta 0:00:08\n",
      "   ------------------------------ --------- 95.8/124.9 MB 3.8 MB/s eta 0:00:08\n",
      "   ------------------------------ --------- 96.0/124.9 MB 3.8 MB/s eta 0:00:08\n",
      "   ------------------------------ --------- 96.1/124.9 MB 3.8 MB/s eta 0:00:08\n",
      "   ------------------------------ --------- 96.3/124.9 MB 3.8 MB/s eta 0:00:08\n",
      "   ------------------------------ --------- 96.3/124.9 MB 3.8 MB/s eta 0:00:08\n",
      "   ------------------------------ --------- 96.4/124.9 MB 3.7 MB/s eta 0:00:08\n",
      "   ------------------------------ --------- 96.4/124.9 MB 3.7 MB/s eta 0:00:08\n",
      "   ------------------------------ --------- 96.5/124.9 MB 3.6 MB/s eta 0:00:08\n",
      "   ------------------------------ --------- 96.5/124.9 MB 3.6 MB/s eta 0:00:08\n",
      "   ------------------------------ --------- 96.6/124.9 MB 3.5 MB/s eta 0:00:09\n",
      "   ------------------------------ --------- 96.6/124.9 MB 3.5 MB/s eta 0:00:09\n",
      "   ------------------------------ --------- 96.7/124.9 MB 3.5 MB/s eta 0:00:09\n",
      "   ------------------------------- -------- 96.9/124.9 MB 3.5 MB/s eta 0:00:09\n",
      "   ------------------------------- -------- 97.0/124.9 MB 3.5 MB/s eta 0:00:09\n",
      "   ------------------------------- -------- 97.2/124.9 MB 3.5 MB/s eta 0:00:08\n",
      "   ------------------------------- -------- 97.4/124.9 MB 3.5 MB/s eta 0:00:08\n",
      "   ------------------------------- -------- 97.6/124.9 MB 3.5 MB/s eta 0:00:08\n",
      "   ------------------------------- -------- 97.8/124.9 MB 3.5 MB/s eta 0:00:08\n",
      "   ------------------------------- -------- 97.9/124.9 MB 3.5 MB/s eta 0:00:08\n",
      "   ------------------------------- -------- 98.1/124.9 MB 3.5 MB/s eta 0:00:08\n",
      "   ------------------------------- -------- 98.3/124.9 MB 3.5 MB/s eta 0:00:08\n",
      "   ------------------------------- -------- 98.5/124.9 MB 3.5 MB/s eta 0:00:08\n",
      "   ------------------------------- -------- 98.7/124.9 MB 3.5 MB/s eta 0:00:08\n",
      "   ------------------------------- -------- 98.9/124.9 MB 3.5 MB/s eta 0:00:08\n",
      "   ------------------------------- -------- 99.1/124.9 MB 3.5 MB/s eta 0:00:08\n",
      "   ------------------------------- -------- 99.3/124.9 MB 3.5 MB/s eta 0:00:08\n",
      "   ------------------------------- -------- 99.4/124.9 MB 3.5 MB/s eta 0:00:08\n",
      "   ------------------------------- -------- 99.6/124.9 MB 3.5 MB/s eta 0:00:08\n",
      "   ------------------------------- -------- 99.7/124.9 MB 3.5 MB/s eta 0:00:08\n",
      "   ------------------------------- -------- 99.9/124.9 MB 3.6 MB/s eta 0:00:08\n",
      "   -------------------------------- ------- 100.0/124.9 MB 3.6 MB/s eta 0:00:07\n",
      "   -------------------------------- ------- 100.2/124.9 MB 3.5 MB/s eta 0:00:07\n",
      "   -------------------------------- ------- 100.4/124.9 MB 3.6 MB/s eta 0:00:07\n",
      "   -------------------------------- ------- 100.6/124.9 MB 3.6 MB/s eta 0:00:07\n",
      "   -------------------------------- ------- 100.8/124.9 MB 3.6 MB/s eta 0:00:07\n",
      "   -------------------------------- ------- 101.0/124.9 MB 3.6 MB/s eta 0:00:07\n",
      "   -------------------------------- ------- 101.2/124.9 MB 3.6 MB/s eta 0:00:07\n",
      "   -------------------------------- ------- 101.4/124.9 MB 3.6 MB/s eta 0:00:07\n",
      "   -------------------------------- ------- 101.6/124.9 MB 3.7 MB/s eta 0:00:07\n",
      "   -------------------------------- ------- 101.8/124.9 MB 3.7 MB/s eta 0:00:07\n",
      "   -------------------------------- ------- 101.9/124.9 MB 3.6 MB/s eta 0:00:07\n",
      "   -------------------------------- ------- 102.2/124.9 MB 3.6 MB/s eta 0:00:07\n",
      "   -------------------------------- ------- 102.3/124.9 MB 3.6 MB/s eta 0:00:07\n",
      "   -------------------------------- ------- 102.5/124.9 MB 3.6 MB/s eta 0:00:07\n",
      "   -------------------------------- ------- 102.7/124.9 MB 3.6 MB/s eta 0:00:07\n",
      "   -------------------------------- ------- 102.9/124.9 MB 3.6 MB/s eta 0:00:07\n",
      "   --------------------------------- ------ 103.1/124.9 MB 3.7 MB/s eta 0:00:06\n",
      "   --------------------------------- ------ 103.2/124.9 MB 3.6 MB/s eta 0:00:06\n",
      "   --------------------------------- ------ 103.4/124.9 MB 3.6 MB/s eta 0:00:06\n",
      "   --------------------------------- ------ 103.5/124.9 MB 3.6 MB/s eta 0:00:06\n",
      "   --------------------------------- ------ 103.7/124.9 MB 3.6 MB/s eta 0:00:06\n",
      "   --------------------------------- ------ 103.8/124.9 MB 3.6 MB/s eta 0:00:06\n",
      "   --------------------------------- ------ 104.0/124.9 MB 3.6 MB/s eta 0:00:06\n",
      "   --------------------------------- ------ 104.2/124.9 MB 3.6 MB/s eta 0:00:06\n",
      "   --------------------------------- ------ 104.4/124.9 MB 3.6 MB/s eta 0:00:06\n",
      "   --------------------------------- ------ 104.5/124.9 MB 3.5 MB/s eta 0:00:06\n",
      "   --------------------------------- ------ 104.7/124.9 MB 3.5 MB/s eta 0:00:06\n",
      "   --------------------------------- ------ 104.9/124.9 MB 3.5 MB/s eta 0:00:06\n",
      "   --------------------------------- ------ 105.1/124.9 MB 3.5 MB/s eta 0:00:06\n",
      "   --------------------------------- ------ 105.3/124.9 MB 3.5 MB/s eta 0:00:06\n",
      "   --------------------------------- ------ 105.5/124.9 MB 3.5 MB/s eta 0:00:06\n",
      "   --------------------------------- ------ 105.7/124.9 MB 3.5 MB/s eta 0:00:06\n",
      "   --------------------------------- ------ 105.8/124.9 MB 3.5 MB/s eta 0:00:06\n",
      "   --------------------------------- ------ 106.0/124.9 MB 3.5 MB/s eta 0:00:06\n",
      "   --------------------------------- ------ 106.1/124.9 MB 3.5 MB/s eta 0:00:06\n",
      "   ---------------------------------- ----- 106.3/124.9 MB 3.5 MB/s eta 0:00:06\n",
      "   ---------------------------------- ----- 106.4/124.9 MB 3.4 MB/s eta 0:00:06\n",
      "   ---------------------------------- ----- 106.6/124.9 MB 3.5 MB/s eta 0:00:06\n",
      "   ---------------------------------- ----- 106.7/124.9 MB 3.6 MB/s eta 0:00:06\n",
      "   ---------------------------------- ----- 106.9/124.9 MB 3.7 MB/s eta 0:00:05\n",
      "   ---------------------------------- ----- 107.0/124.9 MB 3.8 MB/s eta 0:00:05\n",
      "   ---------------------------------- ----- 107.1/124.9 MB 3.7 MB/s eta 0:00:05\n",
      "   ---------------------------------- ----- 107.3/124.9 MB 3.7 MB/s eta 0:00:05\n",
      "   ---------------------------------- ----- 107.4/124.9 MB 3.7 MB/s eta 0:00:05\n",
      "   ---------------------------------- ----- 107.6/124.9 MB 3.7 MB/s eta 0:00:05\n",
      "   ---------------------------------- ----- 107.8/124.9 MB 3.7 MB/s eta 0:00:05\n",
      "   ---------------------------------- ----- 107.9/124.9 MB 3.7 MB/s eta 0:00:05\n",
      "   ---------------------------------- ----- 108.1/124.9 MB 3.7 MB/s eta 0:00:05\n",
      "   ---------------------------------- ----- 108.3/124.9 MB 3.7 MB/s eta 0:00:05\n",
      "   ---------------------------------- ----- 108.4/124.9 MB 3.7 MB/s eta 0:00:05\n",
      "   ---------------------------------- ----- 108.6/124.9 MB 3.7 MB/s eta 0:00:05\n",
      "   ---------------------------------- ----- 108.8/124.9 MB 3.7 MB/s eta 0:00:05\n",
      "   ---------------------------------- ----- 109.0/124.9 MB 3.7 MB/s eta 0:00:05\n",
      "   ---------------------------------- ----- 109.2/124.9 MB 3.7 MB/s eta 0:00:05\n",
      "   ----------------------------------- ---- 109.4/124.9 MB 3.7 MB/s eta 0:00:05\n",
      "   ----------------------------------- ---- 109.6/124.9 MB 3.7 MB/s eta 0:00:05\n",
      "   ----------------------------------- ---- 109.8/124.9 MB 3.7 MB/s eta 0:00:05\n",
      "   ----------------------------------- ---- 110.0/124.9 MB 3.7 MB/s eta 0:00:05\n",
      "   ----------------------------------- ---- 110.1/124.9 MB 3.7 MB/s eta 0:00:04\n",
      "   ----------------------------------- ---- 110.4/124.9 MB 3.8 MB/s eta 0:00:04\n",
      "   ----------------------------------- ---- 110.6/124.9 MB 3.8 MB/s eta 0:00:04\n",
      "   ----------------------------------- ---- 110.7/124.9 MB 3.8 MB/s eta 0:00:04\n",
      "   ----------------------------------- ---- 110.9/124.9 MB 3.8 MB/s eta 0:00:04\n",
      "   ----------------------------------- ---- 111.0/124.9 MB 3.8 MB/s eta 0:00:04\n",
      "   ----------------------------------- ---- 111.1/124.9 MB 3.7 MB/s eta 0:00:04\n",
      "   ----------------------------------- ---- 111.3/124.9 MB 3.7 MB/s eta 0:00:04\n",
      "   ----------------------------------- ---- 111.4/124.9 MB 3.7 MB/s eta 0:00:04\n",
      "   ----------------------------------- ---- 111.6/124.9 MB 3.6 MB/s eta 0:00:04\n",
      "   ----------------------------------- ---- 111.8/124.9 MB 3.6 MB/s eta 0:00:04\n",
      "   ----------------------------------- ---- 111.9/124.9 MB 3.6 MB/s eta 0:00:04\n",
      "   ----------------------------------- ---- 112.1/124.9 MB 3.6 MB/s eta 0:00:04\n",
      "   ----------------------------------- ---- 112.3/124.9 MB 3.6 MB/s eta 0:00:04\n",
      "   ----------------------------------- ---- 112.4/124.9 MB 3.6 MB/s eta 0:00:04\n",
      "   ------------------------------------ --- 112.6/124.9 MB 3.6 MB/s eta 0:00:04\n",
      "   ------------------------------------ --- 112.7/124.9 MB 3.6 MB/s eta 0:00:04\n",
      "   ------------------------------------ --- 112.9/124.9 MB 3.6 MB/s eta 0:00:04\n",
      "   ------------------------------------ --- 113.1/124.9 MB 3.6 MB/s eta 0:00:04\n",
      "   ------------------------------------ --- 113.3/124.9 MB 3.6 MB/s eta 0:00:04\n",
      "   ------------------------------------ --- 113.4/124.9 MB 3.6 MB/s eta 0:00:04\n",
      "   ------------------------------------ --- 113.7/124.9 MB 3.6 MB/s eta 0:00:04\n",
      "   ------------------------------------ --- 113.8/124.9 MB 3.6 MB/s eta 0:00:04\n",
      "   ------------------------------------ --- 114.0/124.9 MB 3.7 MB/s eta 0:00:03\n",
      "   ------------------------------------ --- 114.3/124.9 MB 3.7 MB/s eta 0:00:03\n",
      "   ------------------------------------ --- 114.4/124.9 MB 3.7 MB/s eta 0:00:03\n",
      "   ------------------------------------ --- 114.6/124.9 MB 3.7 MB/s eta 0:00:03\n",
      "   ------------------------------------ --- 114.6/124.9 MB 3.6 MB/s eta 0:00:03\n",
      "   ------------------------------------ --- 114.9/124.9 MB 3.7 MB/s eta 0:00:03\n",
      "   ------------------------------------ --- 115.0/124.9 MB 3.6 MB/s eta 0:00:03\n",
      "   ------------------------------------ --- 115.2/124.9 MB 3.6 MB/s eta 0:00:03\n",
      "   ------------------------------------ --- 115.3/124.9 MB 3.6 MB/s eta 0:00:03\n",
      "   ------------------------------------ --- 115.5/124.9 MB 3.6 MB/s eta 0:00:03\n",
      "   ------------------------------------- -- 115.6/124.9 MB 3.6 MB/s eta 0:00:03\n",
      "   ------------------------------------- -- 115.8/124.9 MB 3.6 MB/s eta 0:00:03\n",
      "   ------------------------------------- -- 116.0/124.9 MB 3.6 MB/s eta 0:00:03\n",
      "   ------------------------------------- -- 116.1/124.9 MB 3.6 MB/s eta 0:00:03\n",
      "   ------------------------------------- -- 116.3/124.9 MB 3.6 MB/s eta 0:00:03\n",
      "   ------------------------------------- -- 116.4/124.9 MB 3.6 MB/s eta 0:00:03\n",
      "   ------------------------------------- -- 116.6/124.9 MB 3.6 MB/s eta 0:00:03\n",
      "   ------------------------------------- -- 116.8/124.9 MB 3.6 MB/s eta 0:00:03\n",
      "   ------------------------------------- -- 117.0/124.9 MB 3.6 MB/s eta 0:00:03\n",
      "   ------------------------------------- -- 117.1/124.9 MB 3.6 MB/s eta 0:00:03\n",
      "   ------------------------------------- -- 117.3/124.9 MB 3.6 MB/s eta 0:00:03\n",
      "   ------------------------------------- -- 117.5/124.9 MB 3.7 MB/s eta 0:00:03\n",
      "   ------------------------------------- -- 117.7/124.9 MB 3.7 MB/s eta 0:00:02\n",
      "   ------------------------------------- -- 117.9/124.9 MB 3.7 MB/s eta 0:00:02\n",
      "   ------------------------------------- -- 118.1/124.9 MB 3.7 MB/s eta 0:00:02\n",
      "   ------------------------------------- -- 118.2/124.9 MB 3.7 MB/s eta 0:00:02\n",
      "   ------------------------------------- -- 118.2/124.9 MB 3.7 MB/s eta 0:00:02\n",
      "   ------------------------------------- -- 118.3/124.9 MB 3.6 MB/s eta 0:00:02\n",
      "   ------------------------------------- -- 118.4/124.9 MB 3.6 MB/s eta 0:00:02\n",
      "   ------------------------------------- -- 118.6/124.9 MB 3.6 MB/s eta 0:00:02\n",
      "   -------------------------------------- - 118.7/124.9 MB 3.6 MB/s eta 0:00:02\n",
      "   -------------------------------------- - 118.9/124.9 MB 3.6 MB/s eta 0:00:02\n",
      "   -------------------------------------- - 119.1/124.9 MB 3.6 MB/s eta 0:00:02\n",
      "   -------------------------------------- - 119.2/124.9 MB 3.6 MB/s eta 0:00:02\n",
      "   -------------------------------------- - 119.4/124.9 MB 3.5 MB/s eta 0:00:02\n",
      "   -------------------------------------- - 119.5/124.9 MB 3.5 MB/s eta 0:00:02\n",
      "   -------------------------------------- - 119.7/124.9 MB 3.5 MB/s eta 0:00:02\n",
      "   -------------------------------------- - 119.8/124.9 MB 3.5 MB/s eta 0:00:02\n",
      "   -------------------------------------- - 120.0/124.9 MB 3.5 MB/s eta 0:00:02\n",
      "   -------------------------------------- - 120.2/124.9 MB 3.5 MB/s eta 0:00:02\n",
      "   -------------------------------------- - 120.4/124.9 MB 3.5 MB/s eta 0:00:02\n",
      "   -------------------------------------- - 120.5/124.9 MB 3.5 MB/s eta 0:00:02\n",
      "   -------------------------------------- - 120.7/124.9 MB 3.5 MB/s eta 0:00:02\n",
      "   -------------------------------------- - 120.9/124.9 MB 3.5 MB/s eta 0:00:02\n",
      "   -------------------------------------- - 120.9/124.9 MB 3.4 MB/s eta 0:00:02\n",
      "   -------------------------------------- - 121.0/124.9 MB 3.4 MB/s eta 0:00:02\n",
      "   -------------------------------------- - 121.0/124.9 MB 3.4 MB/s eta 0:00:02\n",
      "   -------------------------------------- - 121.1/124.9 MB 3.3 MB/s eta 0:00:02\n",
      "   -------------------------------------- - 121.1/124.9 MB 3.3 MB/s eta 0:00:02\n",
      "   -------------------------------------- - 121.1/124.9 MB 3.2 MB/s eta 0:00:02\n",
      "   -------------------------------------- - 121.2/124.9 MB 3.2 MB/s eta 0:00:02\n",
      "   -------------------------------------- - 121.2/124.9 MB 3.2 MB/s eta 0:00:02\n",
      "   -------------------------------------- - 121.3/124.9 MB 3.1 MB/s eta 0:00:02\n",
      "   -------------------------------------- - 121.3/124.9 MB 3.1 MB/s eta 0:00:02\n",
      "   -------------------------------------- - 121.3/124.9 MB 3.1 MB/s eta 0:00:02\n",
      "   -------------------------------------- - 121.5/124.9 MB 3.1 MB/s eta 0:00:02\n",
      "   -------------------------------------- - 121.6/124.9 MB 3.1 MB/s eta 0:00:02\n",
      "   -------------------------------------- - 121.7/124.9 MB 3.1 MB/s eta 0:00:02\n",
      "   ---------------------------------------  121.9/124.9 MB 3.1 MB/s eta 0:00:01\n",
      "   ---------------------------------------  122.1/124.9 MB 3.1 MB/s eta 0:00:01\n",
      "   ---------------------------------------  122.3/124.9 MB 3.1 MB/s eta 0:00:01\n",
      "   ---------------------------------------  122.5/124.9 MB 3.1 MB/s eta 0:00:01\n",
      "   ---------------------------------------  122.7/124.9 MB 3.1 MB/s eta 0:00:01\n",
      "   ---------------------------------------  122.8/124.9 MB 3.1 MB/s eta 0:00:01\n",
      "   ---------------------------------------  123.1/124.9 MB 3.1 MB/s eta 0:00:01\n",
      "   ---------------------------------------  123.2/124.9 MB 3.1 MB/s eta 0:00:01\n",
      "   ---------------------------------------  123.4/124.9 MB 3.1 MB/s eta 0:00:01\n",
      "   ---------------------------------------  123.5/124.9 MB 3.1 MB/s eta 0:00:01\n",
      "   ---------------------------------------  123.7/124.9 MB 3.1 MB/s eta 0:00:01\n",
      "   ---------------------------------------  123.8/124.9 MB 3.1 MB/s eta 0:00:01\n",
      "   ---------------------------------------  123.9/124.9 MB 3.1 MB/s eta 0:00:01\n",
      "   ---------------------------------------  124.1/124.9 MB 3.1 MB/s eta 0:00:01\n",
      "   ---------------------------------------  124.2/124.9 MB 3.1 MB/s eta 0:00:01\n",
      "   ---------------------------------------  124.4/124.9 MB 3.0 MB/s eta 0:00:01\n",
      "   ---------------------------------------  124.6/124.9 MB 3.0 MB/s eta 0:00:01\n",
      "   ---------------------------------------  124.8/124.9 MB 3.0 MB/s eta 0:00:01\n",
      "   ---------------------------------------  124.9/124.9 MB 3.1 MB/s eta 0:00:01\n",
      "   ---------------------------------------  124.9/124.9 MB 3.1 MB/s eta 0:00:01\n",
      "   ---------------------------------------  124.9/124.9 MB 3.1 MB/s eta 0:00:01\n",
      "   ---------------------------------------  124.9/124.9 MB 3.1 MB/s eta 0:00:01\n",
      "   ---------------------------------------  124.9/124.9 MB 3.1 MB/s eta 0:00:01\n",
      "   ---------------------------------------- 124.9/124.9 MB 2.9 MB/s eta 0:00:00\n",
      "Installing collected packages: xgboost\n",
      "Successfully installed xgboost-2.1.4\n"
     ]
    },
    {
     "name": "stderr",
     "output_type": "stream",
     "text": [
      "\n",
      "[notice] A new release of pip is available: 24.0 -> 25.0.1\n",
      "[notice] To update, run: C:\\Users\\akhil\\AppData\\Local\\Microsoft\\WindowsApps\\PythonSoftwareFoundation.Python.3.11_qbz5n2kfra8p0\\python.exe -m pip install --upgrade pip\n"
     ]
    }
   ],
   "source": [
    "!pip install xgboost"
   ]
  },
  {
   "cell_type": "code",
   "execution_count": null,
   "metadata": {},
   "outputs": [
    {
     "name": "stdout",
     "output_type": "stream",
     "text": [
      "XGB Regressor Performane Metrics\n",
      "Mean Absolute Error: 0.13707879721828214\n",
      "Mean Squared Error: 0.03518730329767769\n",
      "R^2: 0.851912573020591\n"
     ]
    },
    {
     "name": "stderr",
     "output_type": "stream",
     "text": [
      "C:\\Users\\akhil\\AppData\\Local\\Packages\\PythonSoftwareFoundation.Python.3.11_qbz5n2kfra8p0\\LocalCache\\local-packages\\Python311\\site-packages\\xgboost\\core.py:158: UserWarning: [20:57:25] WARNING: C:\\buildkite-agent\\builds\\buildkite-windows-cpu-autoscaling-group-i-08cbc0333d8d4aae1-1\\xgboost\\xgboost-ci-windows\\src\\learner.cc:740: \n",
      "Parameters: { \"learnig_rate\" } are not used.\n",
      "\n",
      "  warnings.warn(smsg, UserWarning)\n"
     ]
    }
   ],
   "source": [
    "from xgboost import XGBRegressor\n",
    "from sklearn.metrics import mean_squared_error, r2_score, mean_absolute_error\n",
    "xg=XGBRegressor(n_estimators=100,random_state=42,learnig_rate=0.1)\n",
    "xg.fit(X_train,y_train)\n",
    "y_pred_xg=xg.predict(X_test)\n",
    "mae_xg=mean_absolute_error(y_test,y_pred_xg)\n",
    "mse_xg=mean_squared_error(y_test,y_pred_xg)\n",
    "r2_xg=r2_score(y_test,y_pred_xg)\n",
    "print(\"XGB Regressor Performane Metrics\")\n",
    "print(f\"Mean Absolute Error: {mae_xg}\")\n",
    "print(f\"Mean Squared Error: {mse_xg}\")\n",
    "print(f\"R^2: {r2_xg}\")"
   ]
  },
  {
   "cell_type": "code",
   "execution_count": null,
   "metadata": {},
   "outputs": [
    {
     "name": "stdout",
     "output_type": "stream",
     "text": [
      "               Model       MAE       MSE  R² Score\n",
      "1      Random Forest  0.119051  0.030850  0.870168\n",
      "2            XGBoost  0.137079  0.035187  0.851913\n",
      "0  Linear Regression  0.143395  0.036975  0.844390\n"
     ]
    }
   ],
   "source": [
    "results = pd.DataFrame({\n",
    "    \"Model\": [\"Linear Regression\", \"Random Forest\", \"XGBoost\"],\n",
    "    \"MAE\": [mae, mae_random, mae_xg],\n",
    "    \"MSE\": [mse, mse_random, mse_xg],\n",
    "    \"R² Score\": [r2,r2_random, r2_xg]\n",
    "})\n",
    "\n",
    "print(results.sort_values(by=\"R² Score\", ascending=False))"
   ]
  },
  {
   "cell_type": "code",
   "execution_count": null,
   "metadata": {},
   "outputs": [],
   "source": [
    "random_params = {\"max_depth\": [5, 8, 15, None, 10],\n",
    "              \"max_features\": [5, 7, \"auto\", 8],\n",
    "              \"min_samples_split\": [2, 8, 15, 20],\n",
    "              \"n_estimators\": [100, 200, 500, 1000]}\n",
    "xg_params = {\"learning_rate\": [0.1, 0.01],\n",
    "                   \"max_depth\": [5, 8, 12, 20, 30],\n",
    "                   \"n_estimators\": [100, 200, 300],\n",
    "                   \"colsample_bytree\": [0.5, 0.8, 1, 0.3, 0.4]}"
   ]
  },
  {
   "cell_type": "code",
   "execution_count": null,
   "metadata": {},
   "outputs": [],
   "source": [
    "randomcv_models = [\n",
    "                   (\"RF\", RandomForestRegressor(), random_params),\n",
    "                   (\"XGboost\",XGBRegressor(),xg_params)\n",
    "                   \n",
    "                   ]"
   ]
  },
  {
   "cell_type": "code",
   "execution_count": null,
   "metadata": {},
   "outputs": [
    {
     "name": "stdout",
     "output_type": "stream",
     "text": [
      "Fitting 3 folds for each of 100 candidates, totalling 300 fits\n"
     ]
    },
    {
     "name": "stderr",
     "output_type": "stream",
     "text": [
      "C:\\Users\\akhil\\AppData\\Local\\Packages\\PythonSoftwareFoundation.Python.3.11_qbz5n2kfra8p0\\LocalCache\\local-packages\\Python311\\site-packages\\sklearn\\model_selection\\_validation.py:528: FitFailedWarning: \n",
      "78 fits failed out of a total of 300.\n",
      "The score on these train-test partitions for these parameters will be set to nan.\n",
      "If these failures are not expected, you can try to debug them by setting error_score='raise'.\n",
      "\n",
      "Below are more details about the failures:\n",
      "--------------------------------------------------------------------------------\n",
      "32 fits failed with the following error:\n",
      "Traceback (most recent call last):\n",
      "  File \"C:\\Users\\akhil\\AppData\\Local\\Packages\\PythonSoftwareFoundation.Python.3.11_qbz5n2kfra8p0\\LocalCache\\local-packages\\Python311\\site-packages\\sklearn\\model_selection\\_validation.py\", line 866, in _fit_and_score\n",
      "    estimator.fit(X_train, y_train, **fit_params)\n",
      "  File \"C:\\Users\\akhil\\AppData\\Local\\Packages\\PythonSoftwareFoundation.Python.3.11_qbz5n2kfra8p0\\LocalCache\\local-packages\\Python311\\site-packages\\sklearn\\base.py\", line 1382, in wrapper\n",
      "    estimator._validate_params()\n",
      "  File \"C:\\Users\\akhil\\AppData\\Local\\Packages\\PythonSoftwareFoundation.Python.3.11_qbz5n2kfra8p0\\LocalCache\\local-packages\\Python311\\site-packages\\sklearn\\base.py\", line 436, in _validate_params\n",
      "    validate_parameter_constraints(\n",
      "  File \"C:\\Users\\akhil\\AppData\\Local\\Packages\\PythonSoftwareFoundation.Python.3.11_qbz5n2kfra8p0\\LocalCache\\local-packages\\Python311\\site-packages\\sklearn\\utils\\_param_validation.py\", line 98, in validate_parameter_constraints\n",
      "    raise InvalidParameterError(\n",
      "sklearn.utils._param_validation.InvalidParameterError: The 'max_features' parameter of RandomForestRegressor must be an int in the range [1, inf), a float in the range (0.0, 1.0], a str among {'log2', 'sqrt'} or None. Got 'auto' instead.\n",
      "\n",
      "--------------------------------------------------------------------------------\n",
      "46 fits failed with the following error:\n",
      "Traceback (most recent call last):\n",
      "  File \"C:\\Users\\akhil\\AppData\\Local\\Packages\\PythonSoftwareFoundation.Python.3.11_qbz5n2kfra8p0\\LocalCache\\local-packages\\Python311\\site-packages\\sklearn\\model_selection\\_validation.py\", line 866, in _fit_and_score\n",
      "    estimator.fit(X_train, y_train, **fit_params)\n",
      "  File \"C:\\Users\\akhil\\AppData\\Local\\Packages\\PythonSoftwareFoundation.Python.3.11_qbz5n2kfra8p0\\LocalCache\\local-packages\\Python311\\site-packages\\sklearn\\base.py\", line 1382, in wrapper\n",
      "    estimator._validate_params()\n",
      "  File \"C:\\Users\\akhil\\AppData\\Local\\Packages\\PythonSoftwareFoundation.Python.3.11_qbz5n2kfra8p0\\LocalCache\\local-packages\\Python311\\site-packages\\sklearn\\base.py\", line 436, in _validate_params\n",
      "    validate_parameter_constraints(\n",
      "  File \"C:\\Users\\akhil\\AppData\\Local\\Packages\\PythonSoftwareFoundation.Python.3.11_qbz5n2kfra8p0\\LocalCache\\local-packages\\Python311\\site-packages\\sklearn\\utils\\_param_validation.py\", line 98, in validate_parameter_constraints\n",
      "    raise InvalidParameterError(\n",
      "sklearn.utils._param_validation.InvalidParameterError: The 'max_features' parameter of RandomForestRegressor must be an int in the range [1, inf), a float in the range (0.0, 1.0], a str among {'sqrt', 'log2'} or None. Got 'auto' instead.\n",
      "\n",
      "  warnings.warn(some_fits_failed_message, FitFailedWarning)\n",
      "C:\\Users\\akhil\\AppData\\Local\\Packages\\PythonSoftwareFoundation.Python.3.11_qbz5n2kfra8p0\\LocalCache\\local-packages\\Python311\\site-packages\\sklearn\\model_selection\\_search.py:1108: UserWarning: One or more of the test scores are non-finite: [       nan 0.8401693  0.84040571        nan 0.84138953 0.84015333\n",
      "        nan        nan 0.84072423 0.8414631  0.84023404        nan\n",
      " 0.84108933 0.83570151        nan        nan        nan 0.83884576\n",
      " 0.83990752 0.84130223        nan 0.84025351 0.8347482         nan\n",
      "        nan 0.83275176        nan        nan 0.83352028 0.84064507\n",
      " 0.83433878 0.84155584 0.83997565 0.83766352 0.84020114        nan\n",
      "        nan 0.84097093        nan 0.84026983 0.83697245        nan\n",
      "        nan        nan 0.84012431 0.84124503 0.83404803 0.84174239\n",
      " 0.84027139 0.83810557        nan 0.83972387 0.84034705        nan\n",
      " 0.834643   0.84050476 0.83405867 0.83927694 0.83391276 0.8397103\n",
      " 0.8415254  0.83960364 0.83945444 0.83994124 0.83690828 0.84052011\n",
      " 0.8415055  0.84047649 0.83975176 0.84050496 0.84071867 0.84046136\n",
      " 0.84193244 0.83557377 0.83845294        nan 0.8403229         nan\n",
      " 0.84168997        nan 0.8397562  0.8401489  0.8410609  0.84030821\n",
      "        nan 0.84190445        nan 0.84006484 0.84093876 0.83917446\n",
      " 0.84005556 0.83458966 0.83674442 0.84311263 0.84090534 0.84026927\n",
      " 0.83752636 0.8372481  0.84104017 0.8397883 ]\n",
      "  warnings.warn(\n"
     ]
    },
    {
     "name": "stdout",
     "output_type": "stream",
     "text": [
      "Fitting 3 folds for each of 100 candidates, totalling 300 fits\n",
      "---------------- Best Params for RF -------------------\n",
      "{'n_estimators': 100, 'min_samples_split': 8, 'max_features': 8, 'max_depth': 8}\n",
      "---------------- Best Params for XGboost -------------------\n",
      "{'n_estimators': 300, 'max_depth': 5, 'learning_rate': 0.01, 'colsample_bytree': 0.8}\n"
     ]
    }
   ],
   "source": [
    "from sklearn.model_selection import RandomizedSearchCV\n",
    "\n",
    "model_param = {}\n",
    "for name, model, params in randomcv_models:\n",
    "    random = RandomizedSearchCV(estimator=model,\n",
    "                                   param_distributions=params,\n",
    "                                   n_iter=100,\n",
    "                                   cv=3,\n",
    "                                   verbose=2,\n",
    "                                   n_jobs=-1)\n",
    "    random.fit(X_train, y_train)\n",
    "    model_param[name] = random.best_params_\n",
    "\n",
    "for model_name in model_param:\n",
    "    print(f\"---------------- Best Params for {model_name} -------------------\")\n",
    "    print(model_param[model_name])"
   ]
  },
  {
   "cell_type": "code",
   "execution_count": null,
   "metadata": {},
   "outputs": [],
   "source": [
    "def evaluate_model(true, predicted):\n",
    "    mae = mean_absolute_error(true, predicted)\n",
    "    mse = mean_squared_error(true, predicted)\n",
    "    rmse = np.sqrt(mean_squared_error(true, predicted))\n",
    "    r2_square = r2_score(true, predicted)\n",
    "    return mae, rmse, r2_square"
   ]
  },
  {
   "cell_type": "code",
   "execution_count": null,
   "metadata": {},
   "outputs": [
    {
     "name": "stdout",
     "output_type": "stream",
     "text": [
      "Random Forest Regressor\n",
      "Model performance for Training set\n",
      "- Root Mean Squared Error: 0.1407\n",
      "- Mean Absolute Error: 0.0947\n",
      "- R2 Score: 0.9204\n",
      "----------------------------------\n",
      "Model performance for Test set\n",
      "- Root Mean Squared Error: 0.1756\n",
      "- Mean Absolute Error: 0.1211\n",
      "- R2 Score: 0.8703\n",
      "===================================\n",
      "\n",
      "\n",
      "Xgboost Regressor\n",
      "Model performance for Training set\n",
      "- Root Mean Squared Error: 0.1557\n",
      "- Mean Absolute Error: 0.1123\n",
      "- R2 Score: 0.9025\n",
      "----------------------------------\n",
      "Model performance for Test set\n",
      "- Root Mean Squared Error: 0.1749\n",
      "- Mean Absolute Error: 0.1274\n",
      "- R2 Score: 0.8713\n",
      "===================================\n",
      "\n",
      "\n"
     ]
    }
   ],
   "source": [
    "models = {\n",
    "    \"Random Forest Regressor\": RandomForestRegressor(n_estimators=100, min_samples_split=8,min_samples_leaf=2, max_features=8, max_depth=8, \n",
    "                                                     n_jobs=-1),\n",
    "     \"Xgboost Regressor\":XGBRegressor(subsample=0.8,n_estimators= 300,learning_rate=0.01,\n",
    "                                     max_depth=5,colsample_bytree=0.8)\n",
    "    \n",
    "}\n",
    "for i in range(len(list(models))):\n",
    "    model = list(models.values())[i]\n",
    "    model.fit(X_train, y_train)\n",
    "\n",
    "    y_train_pred = model.predict(X_train)\n",
    "    y_test_pred = model.predict(X_test)\n",
    "\n",
    "    model_train_mae , model_train_rmse, model_train_r2 = evaluate_model(y_train, y_train_pred)\n",
    "\n",
    "    model_test_mae , model_test_rmse, model_test_r2 = evaluate_model(y_test, y_test_pred)\n",
    "    \n",
    "    print(list(models.keys())[i])\n",
    "    \n",
    "    print('Model performance for Training set')\n",
    "    print(\"- Root Mean Squared Error: {:.4f}\".format(model_train_rmse))\n",
    "    print(\"- Mean Absolute Error: {:.4f}\".format(model_train_mae))\n",
    "    print(\"- R2 Score: {:.4f}\".format(model_train_r2))\n",
    "\n",
    "    print('----------------------------------')\n",
    "    \n",
    "    print('Model performance for Test set')\n",
    "    print(\"- Root Mean Squared Error: {:.4f}\".format(model_test_rmse))\n",
    "    print(\"- Mean Absolute Error: {:.4f}\".format(model_test_mae))\n",
    "    print(\"- R2 Score: {:.4f}\".format(model_test_r2))\n",
    "    \n",
    "    print('='*35)\n",
    "    print('\\n')"
   ]
  },
  {
   "cell_type": "code",
   "execution_count": null,
   "metadata": {},
   "outputs": [
    {
     "name": "stderr",
     "output_type": "stream",
     "text": [
      "C:\\Users\\akhil\\AppData\\Local\\Temp\\ipykernel_28696\\1983016881.py:14: FutureWarning: \n",
      "\n",
      "Passing `palette` without assigning `hue` is deprecated and will be removed in v0.14.0. Assign the `y` variable to `hue` and set `legend=False` for the same effect.\n",
      "\n",
      "  sns.barplot(x=importance_df[\"Importance\"], y=importance_df[\"Feature\"], palette=\"viridis\")\n"
     ]
    },
    {
     "data": {
      "image/png": "[encoded data removed]",
      "text/plain": [
       "<Figure size 1000x500 with 1 Axes>"
      ]
     },
     "metadata": {},
     "output_type": "display_data"
    }
   ],
   "source": [
    "import matplotlib.pyplot as plt\n",
    "import seaborn as sns\n",
    "\n",
    "best_rf = randomcv_models[0][1].fit(X_train, y_train)\n",
    "feature_importance = best_rf.feature_importances_\n",
    "\n",
    "importance_df = pd.DataFrame({\"Feature\": X.columns, \"Importance\": feature_importance})\n",
    "importance_df = importance_df.sort_values(by=\"Importance\", ascending=False)\n",
    "\n",
    "plt.figure(figsize=(10, 5))\n",
    "sns.barplot(x=importance_df[\"Importance\"], y=importance_df[\"Feature\"], palette=\"viridis\")\n",
    "plt.xlabel(\"Feature Importance Score\")\n",
    "plt.ylabel(\"Features\")\n",
    "plt.title(\"Feature Importance in Rental Price Prediction (Random Forest)\")\n",
    "plt.show()\n"
   ]
  },
  {
   "cell_type": "code",
   "execution_count": null,
   "metadata": {},
   "outputs": [
    {
     "name": "stderr",
     "output_type": "stream",
     "text": [
      "C:\\Users\\akhil\\AppData\\Local\\Temp\\ipykernel_28696\\3426900653.py:10: FutureWarning: \n",
      "\n",
      "Passing `palette` without assigning `hue` is deprecated and will be removed in v0.14.0. Assign the `y` variable to `hue` and set `legend=False` for the same effect.\n",
      "\n",
      "  sns.barplot(x=xgb_importance_df[\"Importance\"], y=xgb_importance_df[\"Feature\"], palette=\"plasma\")\n"
     ]
    },
    {
     "data": {
      "image/png": "[encoded data removed]",
      "text/plain": [
       "<Figure size 1000x500 with 1 Axes>"
      ]
     },
     "metadata": {},
     "output_type": "display_data"
    }
   ],
   "source": [
    "xgb_importance = xg.feature_importances_\n",
    "\n",
    "xgb_importance_df = pd.DataFrame({\"Feature\": X.columns, \"Importance\": xgb_importance})\n",
    "xgb_importance_df = xgb_importance_df.sort_values(by=\"Importance\", ascending=False)\n",
    "\n",
    "plt.figure(figsize=(10, 5))\n",
    "sns.barplot(x=xgb_importance_df[\"Importance\"], y=xgb_importance_df[\"Feature\"], palette=\"plasma\")\n",
    "plt.xlabel(\"Feature Importance Score\")\n",
    "plt.ylabel(\"Features\")\n",
    "plt.title(\"Feature Importance in Rental Price Prediction (XGBoost)\")\n",
    "plt.show()"
   ]
  },
  {
   "cell_type": "code",
   "execution_count": null,
   "metadata": {},
   "outputs": [
    {
     "data": {
      "text/plain": [
       "Index(['Bedrooms', 'Bathrooms', 'Furnishing', 'Area', 'Locality'], dtype='object')"
      ]
     },
     "execution_count": 133,
     "metadata": {},
     "output_type": "execute_result"
    }
   ],
   "source": [
    "X_train.columns"
   ]
  },
  {
   "cell_type": "code",
   "execution_count": null,
   "metadata": {},
   "outputs": [
    {
     "name": "stdout",
     "output_type": "stream",
     "text": [
      "Random Forest Prediction: 10.54\n",
      "XGBoost Prediction: 10.70\n"
     ]
    }
   ],
   "source": [
    "new_property = np.array([[3,2,1,1500,\"Papulguda\"]])\n",
    "new_property_df = pd.DataFrame(new_property, columns=X.columns)\n",
    "new_property_df['Bedrooms'] = new_property_df['Bedrooms'].astype(float)\n",
    "new_property_df['Bathrooms'] = new_property_df['Bathrooms'].astype(float)\n",
    "new_property_df['Furnishing'] = new_property_df['Furnishing'].astype(float)\n",
    "new_property_df['Area'] = new_property_df['Area'].astype(float)\n",
    "new_property_df['Locality'] = new_property_df['Locality'].map(locality_price_map)\n",
    "\n",
    "rf_prediction = random.predict(new_property_df)\n",
    "xgb_prediction = xg.predict(new_property_df)\n",
    "\n",
    "print(f\"Random Forest Prediction: {rf_prediction[0]:.2f}\")\n",
    "print(f\"XGBoost Prediction: {xgb_prediction[0]:.2f}\")\n"
   ]
  },
  {
   "cell_type": "code",
   "execution_count": null,
   "metadata": {},
   "outputs": [
    {
     "name": "stdout",
     "output_type": "stream",
     "text": [
      "Actual Rent (Random Forest): 37976.00 per month\n",
      "Actual Rent (XGBoost): 44407.71 per month\n"
     ]
    }
   ],
   "source": [
    "rf_prediction_actual = np.expm1(rf_prediction[0])\n",
    "xgb_prediction_actual = np.expm1(xgb_prediction[0])\n",
    "\n",
    "print(f\"Actual Rent (Random Forest): {rf_prediction_actual:.2f} per month\")\n",
    "print(f\"Actual Rent (XGBoost): {xgb_prediction_actual:.2f} per month\")"
   ]
  },
  {
   "cell_type": "code",
   "execution_count": null,
   "metadata": {},
   "outputs": [],
   "source": []
  },
  {
   "cell_type": "code",
   "execution_count": null,
   "metadata": {},
   "outputs": [],
   "source": []
  }
 ],
 "metadata": {
  "kernelspec": {
   "display_name": "Python 3",
   "language": "python",
   "name": "python3"
  },
  "language_info": {
   "codemirror_mode": {
    "name": "ipython",
    "version": 3
   },
   "file_extension": ".py",
   "mimetype": "text/x-python",
   "name": "python",
   "nbconvert_exporter": "python",
   "pygments_lexer": "ipython3",
   "version": "3.11.9"
  }
 },
 "nbformat": 4,
 "nbformat_minor": 2
}
